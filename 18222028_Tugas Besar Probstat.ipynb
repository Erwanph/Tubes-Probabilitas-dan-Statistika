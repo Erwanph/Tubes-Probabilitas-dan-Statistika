{
 "cells": [
  {
   "cell_type": "markdown",
   "metadata": {},
   "source": [
    "**EDA Probabilitas dan Statistika**<br>\n",
    "**Nama**  : Erwan Poltak Halomoan <br>\n",
    "**NIM**   : 18222028<br>\n",
    "**Kelas** : STI - K02<br>"
   ]
  },
  {
   "cell_type": "markdown",
   "metadata": {},
   "source": [
    "**Data**   : Survey eChannel, eCommerce, eLifestyle & Fraud/ Penipuan Digital 2023<br>\n",
    "**Format** : CSV<br>\n",
    "**Size**  : 500kb<br>"
   ]
  },
  {
   "cell_type": "markdown",
   "metadata": {},
   "source": [
    "# **Libraries and Data Load**"
   ]
  },
  {
   "cell_type": "code",
   "execution_count": 605,
   "metadata": {},
   "outputs": [
    {
     "data": {
      "text/html": [
       "<div>\n",
       "<style scoped>\n",
       "    .dataframe tbody tr th:only-of-type {\n",
       "        vertical-align: middle;\n",
       "    }\n",
       "\n",
       "    .dataframe tbody tr th {\n",
       "        vertical-align: top;\n",
       "    }\n",
       "\n",
       "    .dataframe thead th {\n",
       "        text-align: right;\n",
       "    }\n",
       "</style>\n",
       "<table border=\"1\" class=\"dataframe\">\n",
       "  <thead>\n",
       "    <tr style=\"text-align: right;\">\n",
       "      <th></th>\n",
       "      <th>Jenis Kelamin</th>\n",
       "      <th>Usia</th>\n",
       "      <th>Pendidikan Terakhir</th>\n",
       "      <th>Pekerjaan</th>\n",
       "      <th>Penghasilan per Bulan</th>\n",
       "      <th>Domisili</th>\n",
       "      <th>Durasi Penggunaan Internet per Hari (dalam Jam)</th>\n",
       "      <th>Aktivitas Online Meningkat</th>\n",
       "      <th>Aktivitas yang Meningkat dalam 3 Bulan Terakhir</th>\n",
       "      <th>layanan_aktif_1</th>\n",
       "      <th>...</th>\n",
       "      <th>cara_pembayaran_belanja_online_5</th>\n",
       "      <th>cara_pembayaran_belanja_online_6</th>\n",
       "      <th>cara_pembayaran_belanja_online_7</th>\n",
       "      <th>cara_pembayaran_belanja_online_8</th>\n",
       "      <th>keluhan_belanja_online_1</th>\n",
       "      <th>keluhan_belanja_online_2</th>\n",
       "      <th>keluhan_belanja_online_3</th>\n",
       "      <th>keluhan_belanja_online_4</th>\n",
       "      <th>keluhan_belanja_online_5</th>\n",
       "      <th>keluhan_belanja_online_6</th>\n",
       "    </tr>\n",
       "  </thead>\n",
       "  <tbody>\n",
       "    <tr>\n",
       "      <th>0</th>\n",
       "      <td>Pria</td>\n",
       "      <td>19</td>\n",
       "      <td>S1</td>\n",
       "      <td>Pelajar / Mahasiswa</td>\n",
       "      <td>Rp 2 juta – Rp 5 juta</td>\n",
       "      <td>Bogor</td>\n",
       "      <td>1000%</td>\n",
       "      <td>Ya</td>\n",
       "      <td>Mengikuti kelas online</td>\n",
       "      <td>Mobile Banking</td>\n",
       "      <td>...</td>\n",
       "      <td>NaN</td>\n",
       "      <td>NaN</td>\n",
       "      <td>NaN</td>\n",
       "      <td>NaN</td>\n",
       "      <td>Barang yang diperoleh tidak sesuai dengan spes...</td>\n",
       "      <td>NaN</td>\n",
       "      <td>NaN</td>\n",
       "      <td>NaN</td>\n",
       "      <td>Pembayaran telah dilakukan tetapi tidak terdet...</td>\n",
       "      <td>NaN</td>\n",
       "    </tr>\n",
       "    <tr>\n",
       "      <th>1</th>\n",
       "      <td>Pria</td>\n",
       "      <td>47</td>\n",
       "      <td>S2</td>\n",
       "      <td>Karyawan Swasta</td>\n",
       "      <td>&gt; Rp 10 juta</td>\n",
       "      <td>Depok</td>\n",
       "      <td>1400%</td>\n",
       "      <td>Ya</td>\n",
       "      <td>Delivery Makanan</td>\n",
       "      <td>Mobile Banking</td>\n",
       "      <td>...</td>\n",
       "      <td>NaN</td>\n",
       "      <td>Kartu Kredit / Debit Online</td>\n",
       "      <td>NaN</td>\n",
       "      <td>NaN</td>\n",
       "      <td>Barang yang diperoleh tidak sesuai dengan spes...</td>\n",
       "      <td>NaN</td>\n",
       "      <td>NaN</td>\n",
       "      <td>NaN</td>\n",
       "      <td>NaN</td>\n",
       "      <td>NaN</td>\n",
       "    </tr>\n",
       "    <tr>\n",
       "      <th>2</th>\n",
       "      <td>Pria</td>\n",
       "      <td>31</td>\n",
       "      <td>S2</td>\n",
       "      <td>Karyawan Swasta</td>\n",
       "      <td>Rp 5 juta – Rp 10 juta</td>\n",
       "      <td>Bandung</td>\n",
       "      <td>400%</td>\n",
       "      <td>Sama saja</td>\n",
       "      <td>NaN</td>\n",
       "      <td>Mobile Banking</td>\n",
       "      <td>...</td>\n",
       "      <td>NaN</td>\n",
       "      <td>NaN</td>\n",
       "      <td>NaN</td>\n",
       "      <td>NaN</td>\n",
       "      <td>Barang yang diperoleh tidak sesuai dengan spes...</td>\n",
       "      <td>Barang rusak/ salah tetapi tidak dapat dikemba...</td>\n",
       "      <td>Pembayaran sudah dilakukan; barang tidak tersedia</td>\n",
       "      <td>NaN</td>\n",
       "      <td>Pembayaran telah dilakukan tetapi tidak terdet...</td>\n",
       "      <td>NaN</td>\n",
       "    </tr>\n",
       "    <tr>\n",
       "      <th>3</th>\n",
       "      <td>Pria</td>\n",
       "      <td>65</td>\n",
       "      <td>S1</td>\n",
       "      <td>Pengusaha</td>\n",
       "      <td>&gt; Rp 10 juta</td>\n",
       "      <td>Jakarta</td>\n",
       "      <td>300%</td>\n",
       "      <td>Tidak</td>\n",
       "      <td>NaN</td>\n",
       "      <td>Mobile Banking</td>\n",
       "      <td>...</td>\n",
       "      <td>NaN</td>\n",
       "      <td>NaN</td>\n",
       "      <td>NaN</td>\n",
       "      <td>menggunakan fitur Paylater</td>\n",
       "      <td>NaN</td>\n",
       "      <td>Barang rusak/ salah tetapi tidak dapat dikemba...</td>\n",
       "      <td>NaN</td>\n",
       "      <td>NaN</td>\n",
       "      <td>NaN</td>\n",
       "      <td>Saldo eMoney/ eWallet berkurang tanpa melakuka...</td>\n",
       "    </tr>\n",
       "    <tr>\n",
       "      <th>4</th>\n",
       "      <td>Pria</td>\n",
       "      <td>19</td>\n",
       "      <td>S1</td>\n",
       "      <td>Pelajar / Mahasiswa</td>\n",
       "      <td>&lt; Rp 2 juta</td>\n",
       "      <td>Padang</td>\n",
       "      <td>1000%</td>\n",
       "      <td>Sama saja</td>\n",
       "      <td>NaN</td>\n",
       "      <td>Mobile Banking</td>\n",
       "      <td>...</td>\n",
       "      <td>Transfer via ATM</td>\n",
       "      <td>NaN</td>\n",
       "      <td>NaN</td>\n",
       "      <td>NaN</td>\n",
       "      <td>Barang yang diperoleh tidak sesuai dengan spes...</td>\n",
       "      <td>NaN</td>\n",
       "      <td>NaN</td>\n",
       "      <td>NaN</td>\n",
       "      <td>NaN</td>\n",
       "      <td>NaN</td>\n",
       "    </tr>\n",
       "  </tbody>\n",
       "</table>\n",
       "<p>5 rows × 150 columns</p>\n",
       "</div>"
      ],
      "text/plain": [
       "  Jenis Kelamin  Usia Pendidikan Terakhir            Pekerjaan  \\\n",
       "0          Pria    19                  S1  Pelajar / Mahasiswa   \n",
       "1          Pria    47                  S2      Karyawan Swasta   \n",
       "2          Pria    31                  S2      Karyawan Swasta   \n",
       "3          Pria    65                  S1            Pengusaha   \n",
       "4          Pria    19                  S1  Pelajar / Mahasiswa   \n",
       "\n",
       "    Penghasilan per Bulan Domisili  \\\n",
       "0   Rp 2 juta – Rp 5 juta    Bogor   \n",
       "1            > Rp 10 juta    Depok   \n",
       "2  Rp 5 juta – Rp 10 juta  Bandung   \n",
       "3            > Rp 10 juta  Jakarta   \n",
       "4             < Rp 2 juta   Padang   \n",
       "\n",
       "  Durasi Penggunaan Internet per Hari (dalam Jam) Aktivitas Online Meningkat  \\\n",
       "0                                           1000%                         Ya   \n",
       "1                                           1400%                         Ya   \n",
       "2                                            400%                  Sama saja   \n",
       "3                                            300%                      Tidak   \n",
       "4                                           1000%                  Sama saja   \n",
       "\n",
       "  Aktivitas yang Meningkat dalam 3 Bulan Terakhir layanan_aktif_1  ...  \\\n",
       "0                          Mengikuti kelas online  Mobile Banking  ...   \n",
       "1                                Delivery Makanan  Mobile Banking  ...   \n",
       "2                                             NaN  Mobile Banking  ...   \n",
       "3                                             NaN  Mobile Banking  ...   \n",
       "4                                             NaN  Mobile Banking  ...   \n",
       "\n",
       "  cara_pembayaran_belanja_online_5 cara_pembayaran_belanja_online_6  \\\n",
       "0                              NaN                              NaN   \n",
       "1                              NaN      Kartu Kredit / Debit Online   \n",
       "2                              NaN                              NaN   \n",
       "3                              NaN                              NaN   \n",
       "4                 Transfer via ATM                              NaN   \n",
       "\n",
       "  cara_pembayaran_belanja_online_7 cara_pembayaran_belanja_online_8  \\\n",
       "0                              NaN                              NaN   \n",
       "1                              NaN                              NaN   \n",
       "2                              NaN                              NaN   \n",
       "3                              NaN       menggunakan fitur Paylater   \n",
       "4                              NaN                              NaN   \n",
       "\n",
       "                            keluhan_belanja_online_1  \\\n",
       "0  Barang yang diperoleh tidak sesuai dengan spes...   \n",
       "1  Barang yang diperoleh tidak sesuai dengan spes...   \n",
       "2  Barang yang diperoleh tidak sesuai dengan spes...   \n",
       "3                                                NaN   \n",
       "4  Barang yang diperoleh tidak sesuai dengan spes...   \n",
       "\n",
       "                            keluhan_belanja_online_2  \\\n",
       "0                                                NaN   \n",
       "1                                                NaN   \n",
       "2  Barang rusak/ salah tetapi tidak dapat dikemba...   \n",
       "3  Barang rusak/ salah tetapi tidak dapat dikemba...   \n",
       "4                                                NaN   \n",
       "\n",
       "                            keluhan_belanja_online_3 keluhan_belanja_online_4  \\\n",
       "0                                                NaN                      NaN   \n",
       "1                                                NaN                      NaN   \n",
       "2  Pembayaran sudah dilakukan; barang tidak tersedia                      NaN   \n",
       "3                                                NaN                      NaN   \n",
       "4                                                NaN                      NaN   \n",
       "\n",
       "                            keluhan_belanja_online_5  \\\n",
       "0  Pembayaran telah dilakukan tetapi tidak terdet...   \n",
       "1                                                NaN   \n",
       "2  Pembayaran telah dilakukan tetapi tidak terdet...   \n",
       "3                                                NaN   \n",
       "4                                                NaN   \n",
       "\n",
       "                            keluhan_belanja_online_6  \n",
       "0                                                NaN  \n",
       "1                                                NaN  \n",
       "2                                                NaN  \n",
       "3  Saldo eMoney/ eWallet berkurang tanpa melakuka...  \n",
       "4                                                NaN  \n",
       "\n",
       "[5 rows x 150 columns]"
      ]
     },
     "execution_count": 605,
     "metadata": {},
     "output_type": "execute_result"
    }
   ],
   "source": [
    "import pandas as pd\n",
    "import matplotlib.pyplot as plt\n",
    "import numpy as np\n",
    "import math as m\n",
    "import scipy.stats as st\n",
    "from scipy import stats\n",
    "from scipy.stats import t\n",
    "from scipy.stats import norm\n",
    "import seaborn as sns\n",
    "from scipy.special import ndtri\n",
    "from matplotlib.lines import Line2D\n",
    "\n",
    "df = pd.read_csv(\"18222028 CSV.csv\")\n",
    "\n",
    "df[0:5]"
   ]
  },
  {
   "cell_type": "markdown",
   "metadata": {},
   "source": [
    "# **Pre-Exploratory**"
   ]
  },
  {
   "cell_type": "markdown",
   "metadata": {},
   "source": [
    "### **Dimensi dan Informasi Data**"
   ]
  },
  {
   "cell_type": "code",
   "execution_count": 606,
   "metadata": {},
   "outputs": [
    {
     "name": "stdout",
     "output_type": "stream",
     "text": [
      "Banyak kolom pada dataset: 150\n",
      "Banyak baris pada dataset: 277\n",
      "Banyak data pada dataset: 41550\n",
      "\n",
      "<class 'pandas.core.frame.DataFrame'>\n",
      "RangeIndex: 277 entries, 0 to 276\n",
      "Columns: 150 entries, Jenis Kelamin to keluhan_belanja_online_6\n",
      "dtypes: int64(1), object(149)\n",
      "memory usage: 324.7+ KB\n",
      "None\n",
      "               Usia\n",
      "count  2.770000e+02\n",
      "mean   1.380562e+05\n",
      "std    2.297081e+06\n",
      "min    1.500000e+01\n",
      "25%    1.900000e+01\n",
      "50%    2.400000e+01\n",
      "75%    4.300000e+01\n",
      "max    3.823108e+07\n"
     ]
    }
   ],
   "source": [
    "# Dimensi Data\n",
    "print(f\"Banyak kolom pada dataset: {df.shape[1]}\")\n",
    "print(f\"Banyak baris pada dataset: {df.shape[0]}\")\n",
    "print(f\"Banyak data pada dataset: {df.size}\\n\")\n",
    "\n",
    "print(df.info())\n",
    "print(df.describe())"
   ]
  },
  {
   "cell_type": "markdown",
   "metadata": {},
   "source": [
    "### **Unique Values**"
   ]
  },
  {
   "cell_type": "code",
   "execution_count": 607,
   "metadata": {},
   "outputs": [
    {
     "data": {
      "text/html": [
       "<div>\n",
       "<style scoped>\n",
       "    .dataframe tbody tr th:only-of-type {\n",
       "        vertical-align: middle;\n",
       "    }\n",
       "\n",
       "    .dataframe tbody tr th {\n",
       "        vertical-align: top;\n",
       "    }\n",
       "\n",
       "    .dataframe thead th {\n",
       "        text-align: right;\n",
       "    }\n",
       "</style>\n",
       "<table border=\"1\" class=\"dataframe\">\n",
       "  <thead>\n",
       "    <tr style=\"text-align: right;\">\n",
       "      <th></th>\n",
       "      <th>Unique Values</th>\n",
       "    </tr>\n",
       "  </thead>\n",
       "  <tbody>\n",
       "    <tr>\n",
       "      <th>Jenis Kelamin</th>\n",
       "      <td>2</td>\n",
       "    </tr>\n",
       "    <tr>\n",
       "      <th>Pendidikan Terakhir</th>\n",
       "      <td>8</td>\n",
       "    </tr>\n",
       "    <tr>\n",
       "      <th>Pekerjaan</th>\n",
       "      <td>18</td>\n",
       "    </tr>\n",
       "    <tr>\n",
       "      <th>Penghasilan per Bulan</th>\n",
       "      <td>4</td>\n",
       "    </tr>\n",
       "    <tr>\n",
       "      <th>Domisili</th>\n",
       "      <td>53</td>\n",
       "    </tr>\n",
       "    <tr>\n",
       "      <th>...</th>\n",
       "      <td>...</td>\n",
       "    </tr>\n",
       "    <tr>\n",
       "      <th>keluhan_belanja_online_2</th>\n",
       "      <td>1</td>\n",
       "    </tr>\n",
       "    <tr>\n",
       "      <th>keluhan_belanja_online_3</th>\n",
       "      <td>1</td>\n",
       "    </tr>\n",
       "    <tr>\n",
       "      <th>keluhan_belanja_online_4</th>\n",
       "      <td>1</td>\n",
       "    </tr>\n",
       "    <tr>\n",
       "      <th>keluhan_belanja_online_5</th>\n",
       "      <td>1</td>\n",
       "    </tr>\n",
       "    <tr>\n",
       "      <th>keluhan_belanja_online_6</th>\n",
       "      <td>1</td>\n",
       "    </tr>\n",
       "  </tbody>\n",
       "</table>\n",
       "<p>149 rows × 1 columns</p>\n",
       "</div>"
      ],
      "text/plain": [
       "                          Unique Values\n",
       "Jenis Kelamin                         2\n",
       "Pendidikan Terakhir                   8\n",
       "Pekerjaan                            18\n",
       "Penghasilan per Bulan                 4\n",
       "Domisili                             53\n",
       "...                                 ...\n",
       "keluhan_belanja_online_2              1\n",
       "keluhan_belanja_online_3              1\n",
       "keluhan_belanja_online_4              1\n",
       "keluhan_belanja_online_5              1\n",
       "keluhan_belanja_online_6              1\n",
       "\n",
       "[149 rows x 1 columns]"
      ]
     },
     "execution_count": 607,
     "metadata": {},
     "output_type": "execute_result"
    }
   ],
   "source": [
    "pd.DataFrame(df.select_dtypes(\"object\").nunique(), columns = ['Unique Values'])"
   ]
  },
  {
   "cell_type": "markdown",
   "metadata": {},
   "source": [
    "### **Missing Values**"
   ]
  },
  {
   "cell_type": "code",
   "execution_count": 608,
   "metadata": {},
   "outputs": [
    {
     "data": {
      "text/plain": [
       "Jenis Kelamin                0.000000\n",
       "Usia                         0.000000\n",
       "Pendidikan Terakhir          0.000000\n",
       "Pekerjaan                    0.000000\n",
       "Penghasilan per Bulan        0.000000\n",
       "                              ...    \n",
       "keluhan_belanja_online_2    73.646209\n",
       "keluhan_belanja_online_3    68.592058\n",
       "keluhan_belanja_online_4    83.032491\n",
       "keluhan_belanja_online_5    89.169675\n",
       "keluhan_belanja_online_6    95.306859\n",
       "Length: 150, dtype: float64"
      ]
     },
     "execution_count": 608,
     "metadata": {},
     "output_type": "execute_result"
    }
   ],
   "source": [
    "# Cek data missing value\n",
    "(df.isna().sum()*100)/df.shape[0]"
   ]
  },
  {
   "cell_type": "markdown",
   "metadata": {},
   "source": [
    "Didapatkan bahwa dataset berjumlah 277 baris dan 150 Kolom yang memiliki tipe data integer dan object yang masing-masing berjumlah 1,dan 149."
   ]
  },
  {
   "cell_type": "markdown",
   "metadata": {},
   "source": [
    "# **Data Cleaning**"
   ]
  },
  {
   "cell_type": "markdown",
   "metadata": {},
   "source": [
    "### **Penangangan Data Kosong (NULL)**"
   ]
  },
  {
   "cell_type": "markdown",
   "metadata": {},
   "source": [
    "Data yang bernilai NULL tidak dilakukan tindakan apapun karena berpengaruh ke tipe data yang ada dalam 1 atribut. Hampir seluruh atribut bertipe data string sehingga proses pengisian kolom yang bernilai NULL dengan angka (misalnya 0) justru akan membuat ambiguitas dan pengolahan data tidak dapat dilakukan."
   ]
  },
  {
   "cell_type": "markdown",
   "metadata": {},
   "source": [
    "### **Penanganan Outliers**"
   ]
  },
  {
   "cell_type": "markdown",
   "metadata": {},
   "source": [
    "Didapatkan data umur yang tidak valid (>100 tahun) sehingga saya ubah menggunakan rata-rata umur valid seluruhnya (<100 tahun). Hal ini diasumsikan valid karena data yang diubah hanya 0,72% yang perubahannya tidak berdampak signifikan pada kualitas data."
   ]
  },
  {
   "cell_type": "code",
   "execution_count": 609,
   "metadata": {},
   "outputs": [
    {
     "data": {
      "text/plain": [
       "192    38231084\n",
       "274        1980\n",
       "Name: Usia, dtype: int64"
      ]
     },
     "execution_count": 609,
     "metadata": {},
     "output_type": "execute_result"
    }
   ],
   "source": [
    "df.loc[df['Usia']>100, 'Usia']"
   ]
  },
  {
   "cell_type": "code",
   "execution_count": 610,
   "metadata": {},
   "outputs": [
    {
     "name": "stdout",
     "output_type": "stream",
     "text": [
      "Apakah masih ada 'Usia'>100 : Tidak\n"
     ]
    }
   ],
   "source": [
    "rata_rata_umur_valid = (df[df['Usia'] <= 100]['Usia']).mean()\n",
    "df['Usia'] = df['Usia'].apply(lambda x: x if x <= 100 else rata_rata_umur_valid)\n",
    "\n",
    "# Mengubah tipe data 'Usia' menjadi integer setelah imputasi\n",
    "df['Usia'] = df['Usia'].astype(np.int64)\n",
    "\n",
    "# Mengecek apakah masih ada 'Usia' responden yang lebih dari 100\n",
    "check = (df['Usia']>100).any()\n",
    "if (not check):\n",
    "    check = \"Tidak\"\n",
    "print(f\"Apakah masih ada 'Usia'>100 : {check}\")"
   ]
  },
  {
   "cell_type": "markdown",
   "metadata": {},
   "source": [
    "Seluruh data usia yang tidak valid (> 100 tahun) sudah berhasil diimputasi (dimodifikasi) dengan menggunakan nilai rata - rata umur yang valid (< 100 tahun)."
   ]
  },
  {
   "cell_type": "markdown",
   "metadata": {},
   "source": [
    "### **Penanganan Inkonsistensi Kategorikal Data**"
   ]
  },
  {
   "cell_type": "markdown",
   "metadata": {},
   "source": [
    "Ditemukan redundansi pada data domisi yang disebabkan oleh perbedaan penggunaan kapital dan adanya \"space\" tambahan yang tidak teridentifikasi."
   ]
  },
  {
   "cell_type": "code",
   "execution_count": 611,
   "metadata": {},
   "outputs": [
    {
     "name": "stdout",
     "output_type": "stream",
     "text": [
      "Data seluruh Domisili :\n",
      "\n",
      "Bogor\n",
      "Depok\n",
      "Bandung\n",
      "Jakarta\n",
      "Padang\n",
      "Medan\n",
      "Tangerang\n",
      "Perth\n",
      "Surabaya\n",
      "depok\n",
      "Yogyakarta\n",
      "Samarinda\n",
      "Essen\n",
      "Semarang\n",
      "Den Haag\n",
      "cirebon\n",
      "Bekasi\n",
      "Makassar\n",
      "Pekan Baru\n",
      "Sumbawa Besar\n",
      "MEDAN \n",
      "bogor\n",
      "Depok Jabar\n",
      "Malang\n",
      "Kepri\n",
      "Batang \n",
      "Jayapura\n",
      "Kabupaten Bogor\n",
      "Balikpapan\n",
      "Sendai\n",
      "Smg\n",
      "Jatinangor\n",
      "Cirebon\n",
      "Blitar\n",
      "Bogor \n",
      "Denpasar\n",
      "Pekanbaru\n",
      "Magelang, Jawa Tengah\n",
      "Purwokerto \n",
      "Metro Lampung \n",
      "Sukabumi\n",
      "Padang \n",
      "Cimahi\n",
      "Banjarmasin\n",
      "Purwokerto\n",
      "Tarakan\n",
      "Sukoharjo\n",
      "Lampung \n",
      "Cilegon\n",
      "Muara bungo Prop Jambi\n",
      "Kalimantan Utara\n",
      "Cirebon \n",
      "Batam\n",
      "\n",
      "Data yang berulang : \n",
      "depok\n",
      "cirebon\n",
      "MEDAN \n",
      "bogor\n"
     ]
    }
   ],
   "source": [
    "print(\"Data seluruh Domisili :\\n\")\n",
    "for a in df['Domisili'].unique():\n",
    "    print(a)\n",
    "print(\"\\nData yang berulang : \")\n",
    "for a in df['Domisili'].unique():\n",
    "    if str.islower(a) or str.isupper(a):\n",
    "        print(a)"
   ]
  },
  {
   "cell_type": "markdown",
   "metadata": {},
   "source": [
    "Teridentifikasi empat domisili yang dituliskan berulang : RIAU, CILACAP, dan JAWATIMUR (MALANG). Untuk mengatasi hal ini maka akan diubah menyesuaikan value atau lokasi umum yang sudah ada."
   ]
  },
  {
   "cell_type": "code",
   "execution_count": 612,
   "metadata": {},
   "outputs": [
    {
     "name": "stdout",
     "output_type": "stream",
     "text": [
      "Bogor\n",
      "Depok\n",
      "Bandung\n",
      "Jakarta\n",
      "Padang\n",
      "Medan\n",
      "Tangerang\n",
      "Perth\n",
      "Surabaya\n",
      "depok\n",
      "Yogyakarta\n",
      "Samarinda\n",
      "Essen\n",
      "Semarang\n",
      "Den Haag\n",
      "cirebon\n",
      "Bekasi\n",
      "Makassar\n",
      "Pekan Baru\n",
      "Sumbawa Besar\n",
      "MEDAN \n",
      "bogor\n",
      "Depok Jabar\n",
      "Malang\n",
      "Kepri\n",
      "Batang \n",
      "Jayapura\n",
      "Kabupaten Bogor\n",
      "Balikpapan\n",
      "Sendai\n",
      "Smg\n",
      "Jatinangor\n",
      "Cirebon\n",
      "Blitar\n",
      "Bogor \n",
      "Denpasar\n",
      "Pekanbaru\n",
      "Magelang, Jawa Tengah\n",
      "Purwokerto \n",
      "Metro Lampung \n",
      "Sukabumi\n",
      "Padang \n",
      "Cimahi\n",
      "Banjarmasin\n",
      "Purwokerto\n",
      "Tarakan\n",
      "Sukoharjo\n",
      "Lampung \n",
      "Cilegon\n",
      "Muara bungo Prop Jambi\n",
      "Kalimantan Utara\n",
      "Cirebon \n",
      "Batam\n"
     ]
    }
   ],
   "source": [
    "df['Domisili'] = df['Domisili'].replace(['RIAU'], 'Riau')\n",
    "df['Domisili'] = df['Domisili'].replace(['CILACAP'], 'Cilacap')\n",
    "df['Domisili'] = df['Domisili'].replace(['JAWATIMUR (MALANG)'], 'Malang')\n",
    "\n",
    "for a in df['Domisili'].unique():\n",
    "    print(a)"
   ]
  },
  {
   "cell_type": "markdown",
   "metadata": {},
   "source": [
    "Teridentifikasi empat domisili yang dituliskan berulang : depok, cirebon, MEDAN, dan bogor. Untuk mengatasi hal ini maka akan diubah menyesuaikan value yang sudah ada."
   ]
  },
  {
   "cell_type": "code",
   "execution_count": 613,
   "metadata": {},
   "outputs": [
    {
     "name": "stdout",
     "output_type": "stream",
     "text": [
      "Bogor\n",
      "Depok\n",
      "Bandung\n",
      "Jakarta\n",
      "Padang\n",
      "Medan\n",
      "Tangerang\n",
      "Perth\n",
      "Surabaya\n",
      "Yogyakarta\n",
      "Samarinda\n",
      "Essen\n",
      "Semarang\n",
      "Den Haag\n",
      "Cirebon\n",
      "Bekasi\n",
      "Makassar\n",
      "Pekan Baru\n",
      "Sumbawa Besar\n",
      "MEDAN \n",
      "Depok Jabar\n",
      "Malang\n",
      "Kepri\n",
      "Batang \n",
      "Jayapura\n",
      "Kabupaten Bogor\n",
      "Balikpapan\n",
      "Sendai\n",
      "Smg\n",
      "Jatinangor\n",
      "Blitar\n",
      "Bogor \n",
      "Denpasar\n",
      "Pekanbaru\n",
      "Magelang, Jawa Tengah\n",
      "Purwokerto \n",
      "Metro Lampung \n",
      "Sukabumi\n",
      "Padang \n",
      "Cimahi\n",
      "Banjarmasin\n",
      "Purwokerto\n",
      "Tarakan\n",
      "Sukoharjo\n",
      "Lampung \n",
      "Cilegon\n",
      "Muara bungo Prop Jambi\n",
      "Kalimantan Utara\n",
      "Cirebon \n",
      "Batam\n"
     ]
    }
   ],
   "source": [
    "df['Domisili'] = df['Domisili'].replace(['depok'], 'Depok')\n",
    "df['Domisili'] = df['Domisili'].replace(['cirebon'], 'Cirebon')\n",
    "df['Domisili'] = df['Domisili'].replace(['MEDAN'], 'Medan')\n",
    "df['Domisili'] = df['Domisili'].replace(['bogor'], 'Bogor')\n",
    "\n",
    "for a in df['Domisili'].unique():\n",
    "    print(a)"
   ]
  },
  {
   "cell_type": "markdown",
   "metadata": {},
   "source": [
    "# **Data Preprocessing**"
   ]
  },
  {
   "cell_type": "markdown",
   "metadata": {},
   "source": [
    "Ditemukan data yang format dan tipe datanya tidak sinkron dengan format umum, yaitu 'Durasi Penggunaan Internet per Hari (dalam Jam)', oleh karena itu akan diubah menjadi integer dan menghapus seluruh nilai 0 untuk mempermudah pengolahan data. "
   ]
  },
  {
   "cell_type": "code",
   "execution_count": 614,
   "metadata": {},
   "outputs": [],
   "source": [
    "df['Durasi Penggunaan Internet per Hari (dalam Jam)'] = df['Durasi Penggunaan Internet per Hari (dalam Jam)'].fillna('0%')\n",
    "df['Durasi Penggunaan Internet per Hari (dalam Jam)'] = df['Durasi Penggunaan Internet per Hari (dalam Jam)'].str.rstrip('%')\n",
    "df['Durasi Penggunaan Internet per Hari (dalam Jam)'] = df['Durasi Penggunaan Internet per Hari (dalam Jam)'].apply(lambda x: x[:2] if len(x) % 2 == 0 else x[0])\n",
    "df['Durasi Penggunaan Internet per Hari (dalam Jam)'] = df['Durasi Penggunaan Internet per Hari (dalam Jam)'].apply(pd.to_numeric)"
   ]
  },
  {
   "cell_type": "markdown",
   "metadata": {},
   "source": [
    "# **Data Visualization**"
   ]
  },
  {
   "cell_type": "markdown",
   "metadata": {},
   "source": [
    "### **1. Pie chart klasifikasi penghasilan responden**"
   ]
  },
  {
   "cell_type": "code",
   "execution_count": 615,
   "metadata": {},
   "outputs": [
    {
     "data": {
      "image/png": "[encoded data removed]",
      "text/plain": [
       "<Figure size 640x480 with 1 Axes>"
      ]
     },
     "metadata": {},
     "output_type": "display_data"
    }
   ],
   "source": [
    "df['Penghasilan per Bulan'].value_counts().plot(kind=\"pie\", title=\"Klasifikasi Penghasilan\", autopct='%.0f%%')\n",
    "plt.ylabel('')  # Menghilangkan label pada sumbu y\n",
    "plt.show()"
   ]
  },
  {
   "cell_type": "markdown",
   "metadata": {},
   "source": [
    "Insight:<br>Responden paling banyak memiliki penghasilan < 2 juta rupiah yang langsung diikuti oleh responden dengan gaji > 10 juta rupiah sebagai terbanyak kedua."
   ]
  },
  {
   "cell_type": "markdown",
   "metadata": {},
   "source": [
    "### **2. Histogram domisili responden**"
   ]
  },
  {
   "cell_type": "code",
   "execution_count": 616,
   "metadata": {},
   "outputs": [
    {
     "name": "stderr",
     "output_type": "stream",
     "text": [
      "C:\\Users\\Erwan\\AppData\\Local\\Temp\\ipykernel_25152\\83039063.py:3: UserWarning: FixedFormatter should only be used together with FixedLocator\n",
      "  ax.set_xticklabels(ax.get_xticklabels(), rotation=40, ha=\"right\") #pemberian nama supaya lebih deskriptif\n"
     ]
    },
    {
     "data": {
      "image/png": "[encoded data removed]",
      "text/plain": [
       "<Figure size 640x480 with 1 Axes>"
      ]
     },
     "metadata": {},
     "output_type": "display_data"
    }
   ],
   "source": [
    "domisili = pd.DataFrame(df[df['Domisili'].duplicated()])\n",
    "ax = sns.histplot(data=domisili, x=\"Domisili\", color = 'cyan')\n",
    "ax.set_xticklabels(ax.get_xticklabels(), rotation=40, ha=\"right\") #pemberian nama supaya lebih deskriptif\n",
    "plt.show()"
   ]
  },
  {
   "cell_type": "markdown",
   "metadata": {},
   "source": [
    "Insight:<br>Responden terbanyak dan mendominasi pengisian survey ini berasal dari kota Jakarta dan Bandung"
   ]
  },
  {
   "cell_type": "markdown",
   "metadata": {},
   "source": [
    "### **3. Scatter plot usia dengan durasi penggunaan internet**"
   ]
  },
  {
   "cell_type": "code",
   "execution_count": 617,
   "metadata": {},
   "outputs": [
    {
     "data": {
      "text/plain": [
       "<AxesSubplot: xlabel='Usia', ylabel='Durasi Penggunaan Internet per Hari (dalam Jam)'>"
      ]
     },
     "execution_count": 617,
     "metadata": {},
     "output_type": "execute_result"
    },
    {
     "data": {
      "image/png": "[encoded data removed]",
      "text/plain": [
       "<Figure size 640x480 with 1 Axes>"
      ]
     },
     "metadata": {},
     "output_type": "display_data"
    }
   ],
   "source": [
    "sns.scatterplot(data=df, x=\"Usia\", y='Durasi Penggunaan Internet per Hari (dalam Jam)')"
   ]
  },
  {
   "cell_type": "markdown",
   "metadata": {},
   "source": [
    "Insight:<br>1. Pengguna internet terbanyak dan terlama adalah responden dengan usia sekitar 20 tahun<br>2. Responden dengan usia sekitar 60 tahun tidak terlalu lama menggunakan internet<br>3. Data tidak terdistribusi normal"
   ]
  },
  {
   "cell_type": "markdown",
   "metadata": {},
   "source": [
    "### **4. Donut chart proporsi tempat penggunaan QR**"
   ]
  },
  {
   "cell_type": "code",
   "execution_count": 618,
   "metadata": {},
   "outputs": [
    {
     "data": {
      "image/png": "[encoded data removed]",
      "text/plain": [
       "<Figure size 640x480 with 1 Axes>"
      ]
     },
     "metadata": {},
     "output_type": "display_data"
    }
   ],
   "source": [
    "qr = df[['lokasi_qr_1', 'lokasi_qr_2', 'lokasi_qr_3', 'lokasi_qr_4', 'lokasi_qr_5', 'lokasi_qr_6']]\n",
    "\n",
    "qr_count = qr.apply(lambda x: x.value_counts())\n",
    "labels = ['Cafe/ restaurant', 'Mini market', 'Supermarket/ Mall', 'Tempat hiburan/ rekreasi', 'Pedagang kaki lima / warung', 'Pasar tradisional']\n",
    "colors = plt.cm.Set1.colors\n",
    "fig, ax = plt.subplots()\n",
    "ax.pie(qr_count.sum(), labels=labels, autopct='%.0f%%', colors=colors, wedgeprops=dict(width=0.3), startangle=90)\n",
    "centre_circle = plt.Circle((0, 0), 0.2, color='white', fc='white', linewidth=1.25)\n",
    "plt.title('Tempat Penggunaan QR')\n",
    "fig = plt.gcf()\n",
    "fig.gca().add_artist(centre_circle)\n",
    "plt.show()"
   ]
  },
  {
   "cell_type": "markdown",
   "metadata": {},
   "source": [
    "Insight:<br>Penggunaan QR terbesar adalah di cafe/restaurant diikuti oleh mini market dengan selisih 3% (25% dan 22%)"
   ]
  },
  {
   "cell_type": "markdown",
   "metadata": {},
   "source": [
    "### **5. Stacked bar chart perbandingan frekuensi top up e-Money pada pria & wanita**"
   ]
  },
  {
   "cell_type": "code",
   "execution_count": 619,
   "metadata": {},
   "outputs": [
    {
     "data": {
      "text/plain": [
       "<matplotlib.legend.Legend at 0x1dbaff29b40>"
      ]
     },
     "execution_count": 619,
     "metadata": {},
     "output_type": "execute_result"
    },
    {
     "data": {
      "image/png": "[encoded data removed]",
      "text/plain": [
       "<Figure size 700x600 with 1 Axes>"
      ]
     },
     "metadata": {},
     "output_type": "display_data"
    }
   ],
   "source": [
    "data = (df\n",
    "      .groupby(\"Jenis Kelamin\")[\"40. Berapa frekuensi top up/ Isi ulang ?\"]\n",
    "      .value_counts(normalize=True)\n",
    "      .mul(100)\n",
    "      .round(2)\n",
    "      .unstack())\n",
    "\n",
    "fig, ax = plt.subplots(figsize = (7,6))\n",
    "\n",
    "ax.bar(data.index, data[\"Sering (kurang lebih 1 kali seminggu)\"], label=\"Yes\", width=0.3, color='lime')\n",
    "ax.bar(data.index, data[\"Jarang (kurang lebih 1 kali sebulan) Sangat jarang\"], bottom=data[\"Sering (kurang lebih 1 kali seminggu)\"], label=\"No\", width=0.3, color='red')\n",
    "ax.bar(data.index, data[\"Hanya mengisi jika akan menggunakan\"], bottom=data[\"Sering (kurang lebih 1 kali seminggu)\"] + data[\"Jarang (kurang lebih 1 kali sebulan) Sangat jarang\"], label=\"No\", width=0.3, color='yellow')\n",
    "\n",
    "for c in ax.containers:\n",
    "    labels = [str(round(v.get_height(), 2)) + \"%\" if v.get_height() > 0 else '' for v in c]\n",
    "    ax.bar_label(c,\n",
    "                 label_type='center',\n",
    "                 labels = labels,\n",
    "                 size = 12)\n",
    "    \n",
    "ax.legend(labels = [\"Sering (kurang lebih 1 kali seminggu)\", \"Jarang (kurang lebih 1 kali sebulan)\", \"Hanya mengisi jika akan menggunakan\"],\n",
    "          fontsize = 7.5,\n",
    "          title = \"Frekuensi Top Up e-Money\",\n",
    "          title_fontsize = 10,\n",
    "          bbox_to_anchor = [0.265, 0.6])"
   ]
  },
  {
   "cell_type": "markdown",
   "metadata": {},
   "source": [
    "Catatan: Persentase tidak menyentuh 100% karena seluruh responden mengisi data \"Jenis Kelamin\" tapi ada yang tidak menigisi data \"40. Berapa frekuensi top up/ Isi ulang ?\"."
   ]
  },
  {
   "cell_type": "markdown",
   "metadata": {},
   "source": [
    "Insight:<br>Pria lebih sering melakukan top up e-Money tapi juga banyak yang hanya mengisi jika akan menggunakan"
   ]
  },
  {
   "cell_type": "markdown",
   "metadata": {},
   "source": [
    "### **6. Bar chart multivariable penghasilan dengan nominal top up**"
   ]
  },
  {
   "cell_type": "code",
   "execution_count": 620,
   "metadata": {},
   "outputs": [
    {
     "name": "stderr",
     "output_type": "stream",
     "text": [
      "C:\\Users\\Erwan\\AppData\\Local\\Temp\\ipykernel_25152\\455140477.py:2: UserWarning: The palette list has more values (9) than needed (6), which may not be intended.\n",
      "  ax = sns.countplot(data=df, x=\"Penghasilan per Bulan\", hue=\"39. Berapa biasanya nominal Anda melakukan top up/ isi ulang?\", palette=palette_color)\n",
      "C:\\Users\\Erwan\\AppData\\Local\\Temp\\ipykernel_25152\\455140477.py:3: UserWarning: FixedFormatter should only be used together with FixedLocator\n",
      "  ax.set_xticklabels(ax.get_xticklabels(), rotation=40, ha=\"right\")\n"
     ]
    },
    {
     "data": {
      "image/png": "[encoded data removed]",
      "text/plain": [
       "<Figure size 640x480 with 1 Axes>"
      ]
     },
     "metadata": {},
     "output_type": "display_data"
    }
   ],
   "source": [
    "palette_color = sns.color_palette('Set1')\n",
    "ax = sns.countplot(data=df, x=\"Penghasilan per Bulan\", hue=\"39. Berapa biasanya nominal Anda melakukan top up/ isi ulang?\", palette=palette_color)\n",
    "ax.set_xticklabels(ax.get_xticklabels(), rotation=40, ha=\"right\")\n",
    "ax.legend(title='Nominal Topup', loc='center left', bbox_to_anchor=(1, 0.5))\n",
    "plt.show()"
   ]
  },
  {
   "cell_type": "markdown",
   "metadata": {},
   "source": [
    "Insight:<br>1. Responden dengan gaji < 2 juta rupiah paling banyak melakukan top up dengan nominal 50 - 100 ribu rupiah.<br>2. Responden dengan rentang gaji terbesar (> 10 juta) paling banyak melakukan top up senilai > 300 ribu rupiah."
   ]
  },
  {
   "cell_type": "markdown",
   "metadata": {},
   "source": [
    "# **Analysis**"
   ]
  },
  {
   "cell_type": "markdown",
   "metadata": {},
   "source": [
    "### **Univariate**"
   ]
  },
  {
   "cell_type": "markdown",
   "metadata": {},
   "source": [
    "#### **Analisis Confidence interval 95% for one-sample proportion<br>3 variabel yang berbeda, variabel bebas**\n",
    "\n",
    "Confidence interval (CI) pada analisis univariat adalah suatu range nilai yang dihitung dari data sampel untuk memberikan perkiraan rentang nilai yang mungkin mengandung parameter populasi tertentu dengan tingkat kepercayaan tertentu. Confidence interval memberikan informasi tentang sejauh mana kita yakin bahwa parameter populasi berada dalam rentang tertentu berdasarkan data sampel yang kita miliki."
   ]
  },
  {
   "cell_type": "markdown",
   "metadata": {},
   "source": [
    "##### **Confidence interval pengguna layanan Mobile Banking**"
   ]
  },
  {
   "cell_type": "code",
   "execution_count": 621,
   "metadata": {},
   "outputs": [
    {
     "name": "stdout",
     "output_type": "stream",
     "text": [
      "P hat = 0.8592057761732852\n",
      "Lower Bound: 0.8182467880075716\n",
      "Upper Bound: 0.9001647643389988\n"
     ]
    }
   ],
   "source": [
    "total = len(df) # Check lagi\n",
    "n = len(df.loc[df['layanan_aktif_1'] == 'Mobile Banking'])\n",
    "p_hat = n/total\n",
    "alpha = 0.95\n",
    "MOE = m.sqrt(p_hat*(1-p_hat)/total)\n",
    "z_alpha = stats.norm.interval(alpha, p_hat, MOE)\n",
    "mbank_range = ((p_hat-MOE, p_hat+MOE))\n",
    "mbank_hat = p_hat\n",
    "mbank_err = MOE\n",
    "print(f\"P hat = {p_hat}\")\n",
    "print(f\"Lower Bound: {z_alpha[0]}\")\n",
    "print(f\"Upper Bound: {z_alpha[1]}\")"
   ]
  },
  {
   "cell_type": "markdown",
   "metadata": {},
   "source": [
    "Confidence interval pada responden yang menggunakan layanan internet banking adalah 16,8% - 26,5%, artinya hanya sekitar 21,6% (P hat) responden menggunakan layanan internet banking."
   ]
  },
  {
   "cell_type": "markdown",
   "metadata": {},
   "source": [
    "##### **Confidence interval pengguna layanan SMS Banking**"
   ]
  },
  {
   "cell_type": "code",
   "execution_count": 622,
   "metadata": {},
   "outputs": [
    {
     "name": "stdout",
     "output_type": "stream",
     "text": [
      "P hat = 0.05054151624548736\n",
      "Lower Bound: 0.024744449370813323\n",
      "Upper Bound: 0.0763385831201614\n"
     ]
    }
   ],
   "source": [
    "total = len(df) # Check lagi\n",
    "n = len(df.loc[df['layanan_aktif_6'] == 'SMS Banking'])\n",
    "p_hat = n/total\n",
    "alpha = 0.95\n",
    "MOE = m.sqrt(p_hat*(1-p_hat)/total)\n",
    "z_alpha = stats.norm.interval(alpha, p_hat, MOE)\n",
    "sms_range = ((p_hat-MOE, p_hat+MOE))\n",
    "sms_hat = p_hat\n",
    "sms_err = MOE\n",
    "print(f\"P hat = {p_hat}\")\n",
    "print(f\"Lower Bound: {z_alpha[0]}\")\n",
    "print(f\"Upper Bound: {z_alpha[1]}\")"
   ]
  },
  {
   "cell_type": "markdown",
   "metadata": {},
   "source": [
    "Confidence interval pada responden yang menggunakan layanan mobile banking adalah 81,8% - 90%, artinya lebih dari 81% responden menggunakan layanan mobile banking."
   ]
  },
  {
   "cell_type": "markdown",
   "metadata": {},
   "source": [
    "##### **Confidence interval pengguna layanan ATM**"
   ]
  },
  {
   "cell_type": "code",
   "execution_count": 623,
   "metadata": {},
   "outputs": [
    {
     "name": "stdout",
     "output_type": "stream",
     "text": [
      "P hat = 0.5595667870036101\n",
      "Lower Bound: 0.5011047152214789\n",
      "Upper Bound: 0.6180288587857412\n"
     ]
    }
   ],
   "source": [
    "total = len(df) # Check lagi\n",
    "n = len(df.loc[df['layanan_aktif_2'] == 'ATM'])\n",
    "p_hat = n/total\n",
    "alpha = 0.95\n",
    "MOE = m.sqrt(p_hat*(1-p_hat)/total)\n",
    "z_alpha = stats.norm.interval(alpha, p_hat, MOE)\n",
    "atm_range = ((p_hat-MOE, p_hat+MOE))\n",
    "atm_hat = p_hat\n",
    "atm_err = MOE\n",
    "print(f\"P hat = {p_hat}\")\n",
    "print(f\"Lower Bound: {z_alpha[0]}\")\n",
    "print(f\"Upper Bound: {z_alpha[1]}\")"
   ]
  },
  {
   "cell_type": "markdown",
   "metadata": {},
   "source": [
    "Confidence interval pada responden yang menggunakan layanan ATM adalah 50,1% - 61,8%, artinya hanya sekitar 55,9% (P hat) responden menggunakan layanan ATM."
   ]
  },
  {
   "cell_type": "markdown",
   "metadata": {},
   "source": [
    "#### **One sample Z-test for proportion (alpha = 5%)<br>(3 tes untuk variabel yang berbeda, variabel bebas)**\n",
    "One-sample Z-test digunakan untuk untuk menguji hipotesis terkait proporsi dalam satu sampel, menggunakan distribusi Z dan tingkat signifikansi (alpha) sebesar 5%.\n",
    "\n",
    "Dalam Z-test ini, kita menguji perbandingan antara proporsi sampel dengan nilai proporsi yang diharapkan dari populasi atau dengan nilai proporsi yang sudah diketahui sebelumnya. Tujuannya adalah untuk menentukan apakah perbedaan antara proporsi sampel dan nilai yang diharapkan signifikan secara statistik atau hanya terjadi secara kebetulan."
   ]
  },
  {
   "cell_type": "markdown",
   "metadata": {},
   "source": [
    "##### **H0  = Proporsi user yang menggunakan e-Money ShopeePay = 60%<br>H1  = Proporsi user yang menggunakan e-Money ShopeePay > 60%**"
   ]
  },
  {
   "cell_type": "code",
   "execution_count": 624,
   "metadata": {},
   "outputs": [
    {
     "name": "stdout",
     "output_type": "stream",
     "text": [
      "Z = -1.0056997611747516\n",
      "Critical Region = Z > 1.6448536269514722\n",
      "P value = 0.31456001810837986\n",
      "Kesimpulan = FAIL TO REJECT\n"
     ]
    }
   ],
   "source": [
    "alpha = 0.05\n",
    "n_proportion = int(df['emoney_pilihan_2'].value_counts())\n",
    "n_total = df.shape[0]\n",
    "p_hat = n_proportion/n_total\n",
    "p0 = 0.6\n",
    "z = (n_total*p_hat - n_total*p0)/m.sqrt(n_total*p0*(1-p0))\n",
    "z_alpha = ndtri(1-alpha)\n",
    "p_value = 2*(1-(norm.cdf(abs(z))))\n",
    "result = z > z_alpha\n",
    "z_m = z\n",
    "z_alpha_m = z_alpha\n",
    "print(f\"Z = {z}\")\n",
    "print(f\"Critical Region = Z > {z_alpha}\")\n",
    "print(f\"P value = {p_value}\")\n",
    "print(\"Kesimpulan = FAIL TO REJECT\")"
   ]
  },
  {
   "cell_type": "markdown",
   "metadata": {},
   "source": [
    "##### **H0  = Proporsi user yang menggunakan e-Money untuk pembayaran e-Commerce = 70%<br>H1  = Proporsi user yang menggunakan e-Money untuk pembayaran e-Commerce ≠ 70%**"
   ]
  },
  {
   "cell_type": "code",
   "execution_count": 625,
   "metadata": {},
   "outputs": [
    {
     "name": "stdout",
     "output_type": "stream",
     "text": [
      "Z = -3.1078701496852754\n",
      "Critical Region = Z > 1.959963984540054 or Z < -1.959963984540054\n",
      "P value = 0.0018844084348841328\n",
      "Kesimpulan = REJECT\n"
     ]
    }
   ],
   "source": [
    "alpha = 0.95\n",
    "po=0.70\n",
    "ni=len(df.loc[df['penggunaan_emoney_3']== 'Pembayaran e-commerce'])\n",
    "n=len(df)\n",
    "phat=ni/n\n",
    "z=(ni*phat-ni*po)/m.sqrt(ni*po*(1-po))\n",
    "z_alpha=stats.norm.interval(alpha)\n",
    "p_value = 2 * (1 - stats.norm.cdf(abs(z)))\n",
    "print(f\"Z = {z}\")\n",
    "print(f\"Critical Region = Z > {z_alpha[1]} or Z < {z_alpha[0]}\")\n",
    "print(f\"P value = {p_value}\")\n",
    "print(\"Kesimpulan = REJECT\")"
   ]
  },
  {
   "cell_type": "markdown",
   "metadata": {},
   "source": [
    "##### **H0  = Proporsi user yang memiliki penghasilan > Rp 10 juta = 50%<br>H1  = Proporsi user yang memiliki penghasilan > Rp 10 juta < 50%**"
   ]
  },
  {
   "cell_type": "code",
   "execution_count": 626,
   "metadata": {},
   "outputs": [
    {
     "name": "stdout",
     "output_type": "stream",
     "text": [
      "Z = -5.9483335044484855\n",
      "Critical Region = Z < 1.6448536269514722\n",
      "P value = 0\n",
      "Kesimpulan = REJECT\n"
     ]
    }
   ],
   "source": [
    "alpha = 0.05\n",
    "po=0.50\n",
    "n_proportion = len(df.loc[df['Penghasilan per Bulan']== \"> Rp 10 juta\"])\n",
    "n_total = df.shape[0]\n",
    "p_hat = n_proportion/n_total\n",
    "p0 = 0.5\n",
    "z = (n_total*p_hat - n_total*p0)/m.sqrt(n_total*p0*(1-p0))\n",
    "z_alpha = ndtri(1-alpha)\n",
    "p_value = m.floor(norm.cdf(-z))\n",
    "result = z < z_alpha\n",
    "z_d = z\n",
    "z_alpha_d = z_alpha\n",
    "print(f\"Z = {z}\")\n",
    "print(f\"Critical Region = Z < {z_alpha}\")\n",
    "print(f\"P value = {p_value}\")\n",
    "print(\"Kesimpulan = REJECT\")"
   ]
  },
  {
   "cell_type": "markdown",
   "metadata": {},
   "source": [
    "#### **Chi-squared test for goodness-of-fit test dengan (alpha = 5% )<br>H0: data distribution = uniform distribution<br> H1: data distribution ≠ uniform distribution<br>(2 tes untuk variabel yang berbeda, variabel bebas)**"
   ]
  },
  {
   "cell_type": "markdown",
   "metadata": {},
   "source": [
    "##### **Chi-squared test untuk frekuensi penggunaan mobile banking**"
   ]
  },
  {
   "cell_type": "code",
   "execution_count": 627,
   "metadata": {},
   "outputs": [
    {
     "data": {
      "text/html": [
       "<div>\n",
       "<style scoped>\n",
       "    .dataframe tbody tr th:only-of-type {\n",
       "        vertical-align: middle;\n",
       "    }\n",
       "\n",
       "    .dataframe tbody tr th {\n",
       "        vertical-align: top;\n",
       "    }\n",
       "\n",
       "    .dataframe thead th {\n",
       "        text-align: right;\n",
       "    }\n",
       "</style>\n",
       "<table border=\"1\" class=\"dataframe\">\n",
       "  <thead>\n",
       "    <tr style=\"text-align: right;\">\n",
       "      <th></th>\n",
       "      <th>18. Bagaimana frekuensi penggunaan Channel Bank berikut? [Mobile Banking ]</th>\n",
       "      <th>Oi</th>\n",
       "      <th>Ei</th>\n",
       "      <th>(Oi - Ei)^2 / Ei</th>\n",
       "    </tr>\n",
       "  </thead>\n",
       "  <tbody>\n",
       "    <tr>\n",
       "      <th>0</th>\n",
       "      <td>&gt; 10 kali per bulan</td>\n",
       "      <td>141</td>\n",
       "      <td>69.25</td>\n",
       "      <td>74.340253</td>\n",
       "    </tr>\n",
       "    <tr>\n",
       "      <th>1</th>\n",
       "      <td>6-9 kali per bulan</td>\n",
       "      <td>58</td>\n",
       "      <td>69.25</td>\n",
       "      <td>1.827617</td>\n",
       "    </tr>\n",
       "    <tr>\n",
       "      <th>2</th>\n",
       "      <td>2-5 kali per bulan</td>\n",
       "      <td>36</td>\n",
       "      <td>69.25</td>\n",
       "      <td>15.964801</td>\n",
       "    </tr>\n",
       "    <tr>\n",
       "      <th>3</th>\n",
       "      <td>Kurang dari/ setidaknya 1 kali per bulan</td>\n",
       "      <td>7</td>\n",
       "      <td>69.25</td>\n",
       "      <td>55.957581</td>\n",
       "    </tr>\n",
       "    <tr>\n",
       "      <th>4</th>\n",
       "      <td>Tidak Pernah</td>\n",
       "      <td>2</td>\n",
       "      <td>69.25</td>\n",
       "      <td>65.307762</td>\n",
       "    </tr>\n",
       "  </tbody>\n",
       "</table>\n",
       "</div>"
      ],
      "text/plain": [
       "  18. Bagaimana frekuensi penggunaan Channel Bank berikut? [Mobile Banking ]  \\\n",
       "0                                > 10 kali per bulan                           \n",
       "1                                 6-9 kali per bulan                           \n",
       "2                                 2-5 kali per bulan                           \n",
       "3           Kurang dari/ setidaknya 1 kali per bulan                           \n",
       "4                                       Tidak Pernah                           \n",
       "\n",
       "    Oi     Ei  (Oi - Ei)^2 / Ei  \n",
       "0  141  69.25         74.340253  \n",
       "1   58  69.25          1.827617  \n",
       "2   36  69.25         15.964801  \n",
       "3    7  69.25         55.957581  \n",
       "4    2  69.25         65.307762  "
      ]
     },
     "execution_count": 627,
     "metadata": {},
     "output_type": "execute_result"
    }
   ],
   "source": [
    "mobile = df['18. Bagaimana frekuensi penggunaan Channel Bank berikut? [Mobile Banking ]'].value_counts().reset_index()\n",
    "mobile.columns = ['18. Bagaimana frekuensi penggunaan Channel Bank berikut? [Mobile Banking ]', 'Oi']\n",
    "mobile['Ei'] = 1/4 * len(df)\n",
    "mobile['(Oi - Ei)^2 / Ei'] = mobile.apply(lambda x: (x['Oi'] - x['Ei'])**2 / x['Ei'],\n",
    "                                              axis = 1)\n",
    "mobile"
   ]
  },
  {
   "cell_type": "code",
   "execution_count": 628,
   "metadata": {},
   "outputs": [
    {
     "name": "stdout",
     "output_type": "stream",
     "text": [
      "chi2 = 259.9754098360655\n",
      "Critical Region = chi2 > 9.487729036781154\n",
      "P value = 4.616231408847731e-55\n",
      "Kesimpulan = REJECT\n"
     ]
    }
   ],
   "source": [
    "from scipy.stats import chisquare\n",
    "def cs(n, y):\n",
    "    return chisquare(n, np.sum(n)/np.sum(y) * y)\n",
    "chi2, pval = cs(mobile['Oi'], mobile['Ei'])\n",
    "alpha = 0.05\n",
    "dof =  len(mobile) -1\n",
    "chi2_alpha = st.chi2.ppf(1 - 0.05, dof)\n",
    "result = chi2 > chi2_alpha\n",
    "print(f\"chi2 = {chi2}\")\n",
    "print(f\"Critical Region = chi2 > {chi2_alpha}\")\n",
    "print(f\"P value = {pval}\")\n",
    "print(\"Kesimpulan = REJECT\")"
   ]
  },
  {
   "cell_type": "markdown",
   "metadata": {},
   "source": [
    "##### **Chi-squared test untuk peningkatan aktivitas online**"
   ]
  },
  {
   "cell_type": "code",
   "execution_count": 629,
   "metadata": {},
   "outputs": [
    {
     "data": {
      "text/html": [
       "<div>\n",
       "<style scoped>\n",
       "    .dataframe tbody tr th:only-of-type {\n",
       "        vertical-align: middle;\n",
       "    }\n",
       "\n",
       "    .dataframe tbody tr th {\n",
       "        vertical-align: top;\n",
       "    }\n",
       "\n",
       "    .dataframe thead th {\n",
       "        text-align: right;\n",
       "    }\n",
       "</style>\n",
       "<table border=\"1\" class=\"dataframe\">\n",
       "  <thead>\n",
       "    <tr style=\"text-align: right;\">\n",
       "      <th></th>\n",
       "      <th>Aktivitas Online Meningkat</th>\n",
       "      <th>Oi</th>\n",
       "      <th>Ei</th>\n",
       "      <th>(Oi - Ei)^2 / Ei</th>\n",
       "    </tr>\n",
       "  </thead>\n",
       "  <tbody>\n",
       "    <tr>\n",
       "      <th>0</th>\n",
       "      <td>Ya</td>\n",
       "      <td>143</td>\n",
       "      <td>92.333333</td>\n",
       "      <td>27.802647</td>\n",
       "    </tr>\n",
       "    <tr>\n",
       "      <th>1</th>\n",
       "      <td>Sama saja</td>\n",
       "      <td>96</td>\n",
       "      <td>92.333333</td>\n",
       "      <td>0.145608</td>\n",
       "    </tr>\n",
       "    <tr>\n",
       "      <th>2</th>\n",
       "      <td>Tidak</td>\n",
       "      <td>38</td>\n",
       "      <td>92.333333</td>\n",
       "      <td>31.972323</td>\n",
       "    </tr>\n",
       "  </tbody>\n",
       "</table>\n",
       "</div>"
      ],
      "text/plain": [
       "  Aktivitas Online Meningkat   Oi         Ei  (Oi - Ei)^2 / Ei\n",
       "0                         Ya  143  92.333333         27.802647\n",
       "1                  Sama saja   96  92.333333          0.145608\n",
       "2                      Tidak   38  92.333333         31.972323"
      ]
     },
     "execution_count": 629,
     "metadata": {},
     "output_type": "execute_result"
    }
   ],
   "source": [
    "aktivitas = df['Aktivitas Online Meningkat'].value_counts().reset_index()\n",
    "aktivitas.columns = ['Aktivitas Online Meningkat', 'Oi']\n",
    "aktivitas['Ei'] = 1/3 * len(df)\n",
    "aktivitas['(Oi - Ei)^2 / Ei'] = aktivitas.apply(lambda x: (x['Oi'] - x['Ei'])**2 / x['Ei'],\n",
    "                                              axis = 1)\n",
    "aktivitas"
   ]
  },
  {
   "cell_type": "code",
   "execution_count": 630,
   "metadata": {},
   "outputs": [
    {
     "name": "stdout",
     "output_type": "stream",
     "text": [
      "chi2 = 59.92057761732852\n",
      "Critical Region = chi2 > 5.991464547107979\n",
      "P value = 9.73670235668666e-14\n",
      "Kesimpulan = REJECT\n"
     ]
    }
   ],
   "source": [
    "from scipy.stats import chisquare\n",
    "def cs(n, y):\n",
    "    return chisquare(n, np.sum(n)/np.sum(y) * y)\n",
    "chi2, pval = st.chisquare(aktivitas['Oi'], aktivitas['Ei'])\n",
    "alpha = 0.05\n",
    "dof =  len(aktivitas) -1\n",
    "chi2_alpha = st.chi2.ppf(1 - 0.05, dof)\n",
    "result = chi2 > chi2_alpha\n",
    "print(f\"chi2 = {chi2}\")\n",
    "print(f\"Critical Region = chi2 > {chi2_alpha}\")\n",
    "print(f\"P value = {pval}\")\n",
    "print(\"Kesimpulan = REJECT\")"
   ]
  },
  {
   "cell_type": "markdown",
   "metadata": {},
   "source": [
    "### **Bivariate**"
   ]
  },
  {
   "cell_type": "markdown",
   "metadata": {},
   "source": [
    "#### **Confidence interval 95% for two-sample proportion difference<br>(3 tes untuk sepasang variabel yang berbeda, pasangan variabel bebas)**\n",
    "\n",
    "Confidence interval 95% for two-sample proportion difference adalah teknik statistik yang digunakan untuk mengestimasi rentang nilai yang mungkin dari perbedaan proporsi antara dua sampel, dengan tingkat kepercayaan 95%.\n",
    "\n",
    "Dalam kasus ini, kita memiliki dua kelompok sampel yang ingin dibandingkan proporsinya, misalnya proporsi orang yang suka minum teh di dua kelompok yang berbeda. Confidence interval ini membantu untuk mengevaluasi seberapa besar perbedaan proporsi antara dua kelompok tersebut dengan menghitung rentang nilai yang mungkin untuk perbedaan proporsi, dengan tingkat keyakinan 95%."
   ]
  },
  {
   "cell_type": "markdown",
   "metadata": {},
   "source": [
    "##### **Confidence interval difference pengguna Mobile Banking dan ATM**"
   ]
  },
  {
   "cell_type": "code",
   "execution_count": 631,
   "metadata": {},
   "outputs": [
    {
     "name": "stdout",
     "output_type": "stream",
     "text": [
      "Lower Bound: 0.2282565505126909\n",
      "Upper Bound: 0.37102142782665937\n"
     ]
    }
   ],
   "source": [
    "CL = 0.95\n",
    "n_total=len(df)\n",
    "n1=len(df.loc[df['layanan_aktif_1']==\"Mobile Banking\"])\n",
    "n2=len(df.loc[df['layanan_aktif_2']==\"ATM\"])\n",
    "p_hat1 = n1/n_total\n",
    "p_hat2 = n2/n_total\n",
    "half_alpha = (1-CL)/2\n",
    "z_half_alpha = ndtri(1-half_alpha)\n",
    "MOE= z_half_alpha*(m.sqrt(p_hat1*(1-p_hat1)/n_total + (p_hat2*(1-p_hat2)/n_total)))\n",
    "lb=p_hat1-p_hat2-MOE\n",
    "ub=p_hat1-p_hat2+MOE\n",
    "print(f\"Lower Bound: {lb}\")\n",
    "print(f\"Upper Bound: {ub}\")"
   ]
  },
  {
   "cell_type": "markdown",
   "metadata": {},
   "source": [
    "Hasil diatas menunjukkan bahwa perbedaan propoorsi antara pengguna mobile banking dan atm cukup signifikan (22,8% - 37,1%)."
   ]
  },
  {
   "cell_type": "markdown",
   "metadata": {},
   "source": [
    "##### **Confidence interval difference pengguna GoPay dan ShopeePay**"
   ]
  },
  {
   "cell_type": "code",
   "execution_count": 632,
   "metadata": {},
   "outputs": [
    {
     "name": "stdout",
     "output_type": "stream",
     "text": [
      "Lower Bound: 0.09932448721377614\n",
      "Upper Bound: 0.25446612650463535\n"
     ]
    }
   ],
   "source": [
    "CL = 0.95\n",
    "n_total=len(df)\n",
    "n1=len(df.loc[df['emoney_pilihan_1']==\"GoPay\"])\n",
    "n2=len(df.loc[df['emoney_pilihan_2']==\"ShopeePay\"])\n",
    "p_hat1 = n1/n_total\n",
    "p_hat2 = n2/n_total\n",
    "half_alpha = (1-CL)/2\n",
    "z_half_alpha = ndtri(1-half_alpha)\n",
    "MOE= z_half_alpha*(m.sqrt(p_hat1*(1-p_hat1)/n_total + (p_hat2*(1-p_hat2)/n_total)))\n",
    "lb=p_hat1-p_hat2-MOE\n",
    "ub=p_hat1-p_hat2+MOE\n",
    "print(f\"Lower Bound: {lb}\")\n",
    "print(f\"Upper Bound: {ub}\")"
   ]
  },
  {
   "cell_type": "markdown",
   "metadata": {},
   "source": [
    "Hasil diatas menunjukkan bahwa perbedaan propoorsi antara pengguna e-Money GoPay dan ShopeePay kurang signifikan, hanya 9,9% - 25,4%."
   ]
  },
  {
   "cell_type": "markdown",
   "metadata": {},
   "source": [
    "##### **Confidence interval difference pengguna Shopee dan Gojek (GoFood)**"
   ]
  },
  {
   "cell_type": "code",
   "execution_count": 633,
   "metadata": {},
   "outputs": [
    {
     "name": "stdout",
     "output_type": "stream",
     "text": [
      "Lower Bound: 0.009827484012380608\n",
      "Upper Bound: 0.15623749793707803\n"
     ]
    }
   ],
   "source": [
    "CL = 0.95\n",
    "n_total=len(df)\n",
    "n1=len(df.loc[df['ecommerce_pilihan_1']==\"Shopee\"])\n",
    "n2=len(df.loc[df['ecommerce_pilihan_2']==\"Gojek (GoFood\"])\n",
    "p_hat1 = n1/n_total\n",
    "p_hat2 = n2/n_total\n",
    "half_alpha = (1-CL)/2\n",
    "z_half_alpha = ndtri(1-half_alpha)\n",
    "MOE= z_half_alpha*(m.sqrt(p_hat1*(1-p_hat1)/n_total + (p_hat2*(1-p_hat2)/n_total)))\n",
    "lb=p_hat1-p_hat2-MOE\n",
    "ub=p_hat1-p_hat2+MOE\n",
    "print(f\"Lower Bound: {lb}\")\n",
    "print(f\"Upper Bound: {ub}\")"
   ]
  },
  {
   "cell_type": "markdown",
   "metadata": {},
   "source": [
    "Hasil diatas menunjukkan bahwa perbedaan propoorsi antara pengguna e-Commerce Shopee dan Gojek (GoFood) sangat tidak signifikan atau hampir tidak ada perbedaan (0.98% - 15,6%)."
   ]
  },
  {
   "cell_type": "markdown",
   "metadata": {},
   "source": [
    "#### **Two-samples Z-test for proportion difference (alpha = 5%)<br>(3 tes untuk sepasang variabel yang berbeda, pasangan variabel bebas)**"
   ]
  },
  {
   "cell_type": "markdown",
   "metadata": {},
   "source": [
    "##### **Z-test pada Traveloka dan Tiket.com dengan left-tailed test**"
   ]
  },
  {
   "cell_type": "code",
   "execution_count": 634,
   "metadata": {},
   "outputs": [
    {
     "name": "stdout",
     "output_type": "stream",
     "text": [
      "Z = 1.76445203729647\n",
      "Critical Region = Z < 1.6448536269514722\n",
      "P value = 0.9611720481671426\n",
      "Kesimpulan = FAIL TO REJECT\n"
     ]
    }
   ],
   "source": [
    "alpha = 0.05\n",
    "n_proportion1=len(df.loc[df['ecommerce_pilihan_5']==\"Traveloka\"])\n",
    "n_proportion2=len(df.loc[df[\"ecommerce_pilihan_7\"]==\"Tiket.com\"])\n",
    "n_total = len(df)\n",
    "p_hat1 = n_proportion1/n_total\n",
    "p_hat2 = n_proportion2/n_total\n",
    "P = (n_proportion1 + n_proportion2)/(2*n_total)\n",
    "Q = 1-P\n",
    "z = (p_hat1 - p_hat2)/m.sqrt(P*Q*(2/n_total))\n",
    "z_alpha = ndtri(1-alpha)\n",
    "p_value = (norm.cdf(z))\n",
    "print(f\"Z = {z}\")\n",
    "print(f\"Critical Region = Z < {z_alpha}\")\n",
    "print(f\"P value = {p_value}\")\n",
    "print(\"Kesimpulan = FAIL TO REJECT\")"
   ]
  },
  {
   "cell_type": "markdown",
   "metadata": {},
   "source": [
    "##### **Z-test pada e-Money Mandiri dan Flazz BCA dengan right-tailed test**"
   ]
  },
  {
   "cell_type": "code",
   "execution_count": 635,
   "metadata": {},
   "outputs": [
    {
     "name": "stdout",
     "output_type": "stream",
     "text": [
      "Z = 0.9306805864372764\n",
      "Critical Region = Z > 1.6448536269514722\n",
      "P value = 0.5276323134410446\n",
      "Kesimpulan = FAIL TO REJECT\n"
     ]
    }
   ],
   "source": [
    "alpha=0.05\n",
    "n_proportion1=len(df.loc[df['emoney_pilihan_5']==\"eMoney Mandiri\"])\n",
    "n_proportion2=len(df.loc[df[\"emoney_pilihan_6\"]==\"Flazz BCA\"])\n",
    "n_total = len(df)\n",
    "p_hat1 = n_proportion1/n_total\n",
    "p_hat2 = n_proportion2/n_total\n",
    "P = (n_proportion1 + n_proportion2)/(2*n_total)\n",
    "Q = 1-P\n",
    "z = (p_hat1 - p_hat2)/m.sqrt(P*Q*(2/n_total))\n",
    "z_alpha = ndtri(1-alpha)\n",
    "p_value = (norm.cdf(1-z))\n",
    "print(f\"Z = {z}\")\n",
    "print(f\"Critical Region = Z > {z_alpha}\")\n",
    "print(f\"P value = {p_value}\")\n",
    "print(\"Kesimpulan = FAIL TO REJECT\")"
   ]
  },
  {
   "cell_type": "markdown",
   "metadata": {},
   "source": [
    "##### **Z-test pada Shopee dan Tokopedia dengan two-tailed test**"
   ]
  },
  {
   "cell_type": "code",
   "execution_count": 636,
   "metadata": {},
   "outputs": [
    {
     "name": "stdout",
     "output_type": "stream",
     "text": [
      "Z = 2.7557193042832138\n",
      "Critical Region = Z > 1.6448536269514722\n",
      "P value = 0.03956817447478046\n",
      "Kesimpulan = REJECT\n"
     ]
    }
   ],
   "source": [
    "alpha=0.05\n",
    "n_proportion1=len(df.loc[df['ecommerce_pilihan_1']==\"Shopee\"])\n",
    "n_proportion2=len(df.loc[df['ecommerce_pilihan_3']==\"Tokopedia\"])\n",
    "n_total = len(df)\n",
    "p_hat1 = n_proportion1/n_total\n",
    "p_hat2 = n_proportion2/n_total\n",
    "P = (n_proportion1 + n_proportion2)/(2*n_total)\n",
    "Q = 1-P\n",
    "z = (p_hat1 - p_hat2)/m.sqrt(P*Q*(2/n_total))\n",
    "z_alpha = ndtri(1-alpha)\n",
    "p_value = (norm.cdf(1-z))\n",
    "print(f\"Z = {z}\")\n",
    "print(f\"Critical Region = Z > {z_alpha}\")\n",
    "print(f\"P value = {p_value}\")\n",
    "print(\"Kesimpulan = REJECT\")"
   ]
  },
  {
   "cell_type": "markdown",
   "metadata": {},
   "source": [
    "#### **Chi-squared test for independence (alpha = 5%)<br>(2 tes untuk sepasang variabel yang berbeda, pasangan variabel bebas)**\n"
   ]
  },
  {
   "cell_type": "markdown",
   "metadata": {},
   "source": [
    "##### **H0 = Pendidikan terakhir independen dengan penghasilan per bulan<br>H1 = Pendidikan terakhir tidak independen dengan penghasilan per bulan**"
   ]
  },
  {
   "cell_type": "code",
   "execution_count": 637,
   "metadata": {},
   "outputs": [
    {
     "data": {
      "text/html": [
       "<div>\n",
       "<style scoped>\n",
       "    .dataframe tbody tr th:only-of-type {\n",
       "        vertical-align: middle;\n",
       "    }\n",
       "\n",
       "    .dataframe tbody tr th {\n",
       "        vertical-align: top;\n",
       "    }\n",
       "\n",
       "    .dataframe thead th {\n",
       "        text-align: right;\n",
       "    }\n",
       "</style>\n",
       "<table border=\"1\" class=\"dataframe\">\n",
       "  <thead>\n",
       "    <tr style=\"text-align: right;\">\n",
       "      <th>Penghasilan per Bulan</th>\n",
       "      <th>&lt; Rp 2 juta</th>\n",
       "      <th>&gt; Rp 10 juta</th>\n",
       "      <th>Rp 2 juta – Rp 5 juta</th>\n",
       "      <th>Rp 5 juta – Rp 10 juta</th>\n",
       "    </tr>\n",
       "    <tr>\n",
       "      <th>Pendidikan Terakhir</th>\n",
       "      <th></th>\n",
       "      <th></th>\n",
       "      <th></th>\n",
       "      <th></th>\n",
       "    </tr>\n",
       "  </thead>\n",
       "  <tbody>\n",
       "    <tr>\n",
       "      <th>D1</th>\n",
       "      <td>0</td>\n",
       "      <td>1</td>\n",
       "      <td>0</td>\n",
       "      <td>0</td>\n",
       "    </tr>\n",
       "    <tr>\n",
       "      <th>D3</th>\n",
       "      <td>5</td>\n",
       "      <td>7</td>\n",
       "      <td>6</td>\n",
       "      <td>0</td>\n",
       "    </tr>\n",
       "    <tr>\n",
       "      <th>D4</th>\n",
       "      <td>1</td>\n",
       "      <td>0</td>\n",
       "      <td>0</td>\n",
       "      <td>1</td>\n",
       "    </tr>\n",
       "    <tr>\n",
       "      <th>S1</th>\n",
       "      <td>19</td>\n",
       "      <td>54</td>\n",
       "      <td>22</td>\n",
       "      <td>19</td>\n",
       "    </tr>\n",
       "    <tr>\n",
       "      <th>S2</th>\n",
       "      <td>0</td>\n",
       "      <td>21</td>\n",
       "      <td>1</td>\n",
       "      <td>4</td>\n",
       "    </tr>\n",
       "    <tr>\n",
       "      <th>S3</th>\n",
       "      <td>0</td>\n",
       "      <td>1</td>\n",
       "      <td>0</td>\n",
       "      <td>0</td>\n",
       "    </tr>\n",
       "    <tr>\n",
       "      <th>SMA</th>\n",
       "      <td>89</td>\n",
       "      <td>5</td>\n",
       "      <td>17</td>\n",
       "      <td>3</td>\n",
       "    </tr>\n",
       "    <tr>\n",
       "      <th>SMP</th>\n",
       "      <td>1</td>\n",
       "      <td>0</td>\n",
       "      <td>0</td>\n",
       "      <td>0</td>\n",
       "    </tr>\n",
       "  </tbody>\n",
       "</table>\n",
       "</div>"
      ],
      "text/plain": [
       "Penghasilan per Bulan  < Rp 2 juta  > Rp 10 juta  Rp 2 juta – Rp 5 juta  \\\n",
       "Pendidikan Terakhir                                                       \n",
       "D1                               0             1                      0   \n",
       "D3                               5             7                      6   \n",
       "D4                               1             0                      0   \n",
       "S1                              19            54                     22   \n",
       "S2                               0            21                      1   \n",
       "S3                               0             1                      0   \n",
       "SMA                             89             5                     17   \n",
       "SMP                              1             0                      0   \n",
       "\n",
       "Penghasilan per Bulan  Rp 5 juta – Rp 10 juta  \n",
       "Pendidikan Terakhir                            \n",
       "D1                                          0  \n",
       "D3                                          0  \n",
       "D4                                          1  \n",
       "S1                                         19  \n",
       "S2                                          4  \n",
       "S3                                          0  \n",
       "SMA                                         3  \n",
       "SMP                                         0  "
      ]
     },
     "execution_count": 637,
     "metadata": {},
     "output_type": "execute_result"
    }
   ],
   "source": [
    "contigency1 = pd.crosstab(df['Pendidikan Terakhir'],\n",
    "                            df['Penghasilan per Bulan'])\n",
    "contigency1"
   ]
  },
  {
   "cell_type": "code",
   "execution_count": 638,
   "metadata": {},
   "outputs": [
    {
     "data": {
      "text/html": [
       "<div>\n",
       "<style scoped>\n",
       "    .dataframe tbody tr th:only-of-type {\n",
       "        vertical-align: middle;\n",
       "    }\n",
       "\n",
       "    .dataframe tbody tr th {\n",
       "        vertical-align: top;\n",
       "    }\n",
       "\n",
       "    .dataframe thead th {\n",
       "        text-align: right;\n",
       "    }\n",
       "</style>\n",
       "<table border=\"1\" class=\"dataframe\">\n",
       "  <thead>\n",
       "    <tr style=\"text-align: right;\">\n",
       "      <th>Penghasilan per Bulan</th>\n",
       "      <th>&lt; Rp 2 juta</th>\n",
       "      <th>&gt; Rp 10 juta</th>\n",
       "      <th>Rp 2 juta – Rp 5 juta</th>\n",
       "      <th>Rp 5 juta – Rp 10 juta</th>\n",
       "    </tr>\n",
       "    <tr>\n",
       "      <th>Pendidikan Terakhir</th>\n",
       "      <th></th>\n",
       "      <th></th>\n",
       "      <th></th>\n",
       "      <th></th>\n",
       "    </tr>\n",
       "  </thead>\n",
       "  <tbody>\n",
       "    <tr>\n",
       "      <th>D1</th>\n",
       "      <td>0.415162</td>\n",
       "      <td>0.321300</td>\n",
       "      <td>0.166065</td>\n",
       "      <td>0.097473</td>\n",
       "    </tr>\n",
       "    <tr>\n",
       "      <th>D3</th>\n",
       "      <td>7.472924</td>\n",
       "      <td>5.783394</td>\n",
       "      <td>2.989170</td>\n",
       "      <td>1.754513</td>\n",
       "    </tr>\n",
       "    <tr>\n",
       "      <th>D4</th>\n",
       "      <td>0.830325</td>\n",
       "      <td>0.642599</td>\n",
       "      <td>0.332130</td>\n",
       "      <td>0.194946</td>\n",
       "    </tr>\n",
       "    <tr>\n",
       "      <th>S1</th>\n",
       "      <td>47.328520</td>\n",
       "      <td>36.628159</td>\n",
       "      <td>18.931408</td>\n",
       "      <td>11.111913</td>\n",
       "    </tr>\n",
       "    <tr>\n",
       "      <th>S2</th>\n",
       "      <td>10.794224</td>\n",
       "      <td>8.353791</td>\n",
       "      <td>4.317690</td>\n",
       "      <td>2.534296</td>\n",
       "    </tr>\n",
       "    <tr>\n",
       "      <th>S3</th>\n",
       "      <td>0.415162</td>\n",
       "      <td>0.321300</td>\n",
       "      <td>0.166065</td>\n",
       "      <td>0.097473</td>\n",
       "    </tr>\n",
       "    <tr>\n",
       "      <th>SMA</th>\n",
       "      <td>47.328520</td>\n",
       "      <td>36.628159</td>\n",
       "      <td>18.931408</td>\n",
       "      <td>11.111913</td>\n",
       "    </tr>\n",
       "    <tr>\n",
       "      <th>SMP</th>\n",
       "      <td>0.415162</td>\n",
       "      <td>0.321300</td>\n",
       "      <td>0.166065</td>\n",
       "      <td>0.097473</td>\n",
       "    </tr>\n",
       "  </tbody>\n",
       "</table>\n",
       "</div>"
      ],
      "text/plain": [
       "Penghasilan per Bulan  < Rp 2 juta  > Rp 10 juta  Rp 2 juta – Rp 5 juta  \\\n",
       "Pendidikan Terakhir                                                       \n",
       "D1                        0.415162      0.321300               0.166065   \n",
       "D3                        7.472924      5.783394               2.989170   \n",
       "D4                        0.830325      0.642599               0.332130   \n",
       "S1                       47.328520     36.628159              18.931408   \n",
       "S2                       10.794224      8.353791               4.317690   \n",
       "S3                        0.415162      0.321300               0.166065   \n",
       "SMA                      47.328520     36.628159              18.931408   \n",
       "SMP                       0.415162      0.321300               0.166065   \n",
       "\n",
       "Penghasilan per Bulan  Rp 5 juta – Rp 10 juta  \n",
       "Pendidikan Terakhir                            \n",
       "D1                                   0.097473  \n",
       "D3                                   1.754513  \n",
       "D4                                   0.194946  \n",
       "S1                                  11.111913  \n",
       "S2                                   2.534296  \n",
       "S3                                   0.097473  \n",
       "SMA                                 11.111913  \n",
       "SMP                                  0.097473  "
      ]
     },
     "execution_count": 638,
     "metadata": {},
     "output_type": "execute_result"
    }
   ],
   "source": [
    "Ei1 = contigency1.copy()\n",
    "\n",
    "for s in contigency1.index:\n",
    "    for o in contigency1.columns:\n",
    "         Ei1.loc[s, o] = contigency1.loc[s].sum() * contigency1.loc[:, o].sum() / contigency1.values.sum()\n",
    "            \n",
    "Ei1"
   ]
  },
  {
   "cell_type": "code",
   "execution_count": 639,
   "metadata": {},
   "outputs": [
    {
     "name": "stdout",
     "output_type": "stream",
     "text": [
      "chi2 = 150.57647260928144\n",
      "Critical Region = chi2 > 32.670573340917315\n",
      "P value = 1.3644684752558475e-21\n",
      "Kesimpulan = REJECT\n"
     ]
    }
   ],
   "source": [
    "alpha = 0.05\n",
    "chi2, pval, data, Ei1 = st.chi2_contingency(contigency1)\n",
    "chi2_alpha = st.chi2.ppf(1 - 0.05, data)\n",
    "print(f\"chi2 = {chi2}\")\n",
    "print(f\"Critical Region = chi2 > {chi2_alpha}\")\n",
    "print(f\"P value = {pval}\")\n",
    "print(\"Kesimpulan = REJECT\")"
   ]
  },
  {
   "cell_type": "markdown",
   "metadata": {},
   "source": [
    "##### **H0 = Pekerjaan independen dengan peningkatan aktivitas online<br>H1 = Pekerjaan tidak independen dengan peningkatan aktivitas online**"
   ]
  },
  {
   "cell_type": "code",
   "execution_count": 640,
   "metadata": {},
   "outputs": [
    {
     "data": {
      "text/html": [
       "<div>\n",
       "<style scoped>\n",
       "    .dataframe tbody tr th:only-of-type {\n",
       "        vertical-align: middle;\n",
       "    }\n",
       "\n",
       "    .dataframe tbody tr th {\n",
       "        vertical-align: top;\n",
       "    }\n",
       "\n",
       "    .dataframe thead th {\n",
       "        text-align: right;\n",
       "    }\n",
       "</style>\n",
       "<table border=\"1\" class=\"dataframe\">\n",
       "  <thead>\n",
       "    <tr style=\"text-align: right;\">\n",
       "      <th>Aktivitas Online Meningkat</th>\n",
       "      <th>Sama saja</th>\n",
       "      <th>Tidak</th>\n",
       "      <th>Ya</th>\n",
       "    </tr>\n",
       "    <tr>\n",
       "      <th>Pekerjaan</th>\n",
       "      <th></th>\n",
       "      <th></th>\n",
       "      <th></th>\n",
       "    </tr>\n",
       "  </thead>\n",
       "  <tbody>\n",
       "    <tr>\n",
       "      <th>Asisten dokter gigi anak2</th>\n",
       "      <td>0</td>\n",
       "      <td>0</td>\n",
       "      <td>1</td>\n",
       "    </tr>\n",
       "    <tr>\n",
       "      <th>Ibu Rumah Tangga</th>\n",
       "      <td>10</td>\n",
       "      <td>1</td>\n",
       "      <td>9</td>\n",
       "    </tr>\n",
       "    <tr>\n",
       "      <th>Insurance Agent</th>\n",
       "      <td>1</td>\n",
       "      <td>0</td>\n",
       "      <td>0</td>\n",
       "    </tr>\n",
       "    <tr>\n",
       "      <th>Karyawan BUMD</th>\n",
       "      <td>1</td>\n",
       "      <td>1</td>\n",
       "      <td>0</td>\n",
       "    </tr>\n",
       "    <tr>\n",
       "      <th>Karyawan Swasta</th>\n",
       "      <td>31</td>\n",
       "      <td>6</td>\n",
       "      <td>42</td>\n",
       "    </tr>\n",
       "    <tr>\n",
       "      <th>Konsultan Lingkungan</th>\n",
       "      <td>1</td>\n",
       "      <td>0</td>\n",
       "      <td>0</td>\n",
       "    </tr>\n",
       "    <tr>\n",
       "      <th>Mitra BPS Regsosek</th>\n",
       "      <td>0</td>\n",
       "      <td>0</td>\n",
       "      <td>1</td>\n",
       "    </tr>\n",
       "    <tr>\n",
       "      <th>Pedagang</th>\n",
       "      <td>1</td>\n",
       "      <td>0</td>\n",
       "      <td>0</td>\n",
       "    </tr>\n",
       "    <tr>\n",
       "      <th>Pegawai BUMD</th>\n",
       "      <td>0</td>\n",
       "      <td>1</td>\n",
       "      <td>0</td>\n",
       "    </tr>\n",
       "    <tr>\n",
       "      <th>Pegawai BUMN</th>\n",
       "      <td>0</td>\n",
       "      <td>0</td>\n",
       "      <td>1</td>\n",
       "    </tr>\n",
       "    <tr>\n",
       "      <th>Pegawai Negeri</th>\n",
       "      <td>2</td>\n",
       "      <td>2</td>\n",
       "      <td>5</td>\n",
       "    </tr>\n",
       "    <tr>\n",
       "      <th>Pelajar / Mahasiswa</th>\n",
       "      <td>39</td>\n",
       "      <td>20</td>\n",
       "      <td>67</td>\n",
       "    </tr>\n",
       "    <tr>\n",
       "      <th>Pengusaha</th>\n",
       "      <td>5</td>\n",
       "      <td>5</td>\n",
       "      <td>4</td>\n",
       "    </tr>\n",
       "    <tr>\n",
       "      <th>Pensiun BUMN</th>\n",
       "      <td>1</td>\n",
       "      <td>0</td>\n",
       "      <td>0</td>\n",
       "    </tr>\n",
       "    <tr>\n",
       "      <th>Pensiunan</th>\n",
       "      <td>0</td>\n",
       "      <td>0</td>\n",
       "      <td>1</td>\n",
       "    </tr>\n",
       "    <tr>\n",
       "      <th>Photographer</th>\n",
       "      <td>1</td>\n",
       "      <td>0</td>\n",
       "      <td>0</td>\n",
       "    </tr>\n",
       "    <tr>\n",
       "      <th>Profesional ( Dokter, Dosen, Pengacara, dll)</th>\n",
       "      <td>2</td>\n",
       "      <td>2</td>\n",
       "      <td>11</td>\n",
       "    </tr>\n",
       "    <tr>\n",
       "      <th>Wiraswasta</th>\n",
       "      <td>1</td>\n",
       "      <td>0</td>\n",
       "      <td>1</td>\n",
       "    </tr>\n",
       "  </tbody>\n",
       "</table>\n",
       "</div>"
      ],
      "text/plain": [
       "Aktivitas Online Meningkat                    Sama saja  Tidak  Ya\n",
       "Pekerjaan                                                         \n",
       " Asisten dokter gigi anak2                            0      0   1\n",
       "Ibu Rumah Tangga                                     10      1   9\n",
       "Insurance Agent                                       1      0   0\n",
       "Karyawan BUMD                                         1      1   0\n",
       "Karyawan Swasta                                      31      6  42\n",
       "Konsultan Lingkungan                                  1      0   0\n",
       "Mitra BPS Regsosek                                    0      0   1\n",
       "Pedagang                                              1      0   0\n",
       "Pegawai BUMD                                          0      1   0\n",
       "Pegawai BUMN                                          0      0   1\n",
       "Pegawai Negeri                                        2      2   5\n",
       "Pelajar / Mahasiswa                                  39     20  67\n",
       "Pengusaha                                             5      5   4\n",
       "Pensiun BUMN                                          1      0   0\n",
       "Pensiunan                                             0      0   1\n",
       "Photographer                                          1      0   0\n",
       "Profesional ( Dokter, Dosen, Pengacara, dll)          2      2  11\n",
       "Wiraswasta                                            1      0   1"
      ]
     },
     "execution_count": 640,
     "metadata": {},
     "output_type": "execute_result"
    }
   ],
   "source": [
    "contigency2 = pd.crosstab(df['Pekerjaan'],\n",
    "                            df['Aktivitas Online Meningkat'])\n",
    "contigency2"
   ]
  },
  {
   "cell_type": "code",
   "execution_count": 641,
   "metadata": {},
   "outputs": [
    {
     "data": {
      "text/html": [
       "<div>\n",
       "<style scoped>\n",
       "    .dataframe tbody tr th:only-of-type {\n",
       "        vertical-align: middle;\n",
       "    }\n",
       "\n",
       "    .dataframe tbody tr th {\n",
       "        vertical-align: top;\n",
       "    }\n",
       "\n",
       "    .dataframe thead th {\n",
       "        text-align: right;\n",
       "    }\n",
       "</style>\n",
       "<table border=\"1\" class=\"dataframe\">\n",
       "  <thead>\n",
       "    <tr style=\"text-align: right;\">\n",
       "      <th>Aktivitas Online Meningkat</th>\n",
       "      <th>Sama saja</th>\n",
       "      <th>Tidak</th>\n",
       "      <th>Ya</th>\n",
       "    </tr>\n",
       "    <tr>\n",
       "      <th>Pekerjaan</th>\n",
       "      <th></th>\n",
       "      <th></th>\n",
       "      <th></th>\n",
       "    </tr>\n",
       "  </thead>\n",
       "  <tbody>\n",
       "    <tr>\n",
       "      <th>Asisten dokter gigi anak2</th>\n",
       "      <td>0.346570</td>\n",
       "      <td>0.137184</td>\n",
       "      <td>0.516245</td>\n",
       "    </tr>\n",
       "    <tr>\n",
       "      <th>Ibu Rumah Tangga</th>\n",
       "      <td>6.931408</td>\n",
       "      <td>2.743682</td>\n",
       "      <td>10.324910</td>\n",
       "    </tr>\n",
       "    <tr>\n",
       "      <th>Insurance Agent</th>\n",
       "      <td>0.346570</td>\n",
       "      <td>0.137184</td>\n",
       "      <td>0.516245</td>\n",
       "    </tr>\n",
       "    <tr>\n",
       "      <th>Karyawan BUMD</th>\n",
       "      <td>0.693141</td>\n",
       "      <td>0.274368</td>\n",
       "      <td>1.032491</td>\n",
       "    </tr>\n",
       "    <tr>\n",
       "      <th>Karyawan Swasta</th>\n",
       "      <td>27.379061</td>\n",
       "      <td>10.837545</td>\n",
       "      <td>40.783394</td>\n",
       "    </tr>\n",
       "    <tr>\n",
       "      <th>Konsultan Lingkungan</th>\n",
       "      <td>0.346570</td>\n",
       "      <td>0.137184</td>\n",
       "      <td>0.516245</td>\n",
       "    </tr>\n",
       "    <tr>\n",
       "      <th>Mitra BPS Regsosek</th>\n",
       "      <td>0.346570</td>\n",
       "      <td>0.137184</td>\n",
       "      <td>0.516245</td>\n",
       "    </tr>\n",
       "    <tr>\n",
       "      <th>Pedagang</th>\n",
       "      <td>0.346570</td>\n",
       "      <td>0.137184</td>\n",
       "      <td>0.516245</td>\n",
       "    </tr>\n",
       "    <tr>\n",
       "      <th>Pegawai BUMD</th>\n",
       "      <td>0.346570</td>\n",
       "      <td>0.137184</td>\n",
       "      <td>0.516245</td>\n",
       "    </tr>\n",
       "    <tr>\n",
       "      <th>Pegawai BUMN</th>\n",
       "      <td>0.346570</td>\n",
       "      <td>0.137184</td>\n",
       "      <td>0.516245</td>\n",
       "    </tr>\n",
       "    <tr>\n",
       "      <th>Pegawai Negeri</th>\n",
       "      <td>3.119134</td>\n",
       "      <td>1.234657</td>\n",
       "      <td>4.646209</td>\n",
       "    </tr>\n",
       "    <tr>\n",
       "      <th>Pelajar / Mahasiswa</th>\n",
       "      <td>43.667870</td>\n",
       "      <td>17.285199</td>\n",
       "      <td>65.046931</td>\n",
       "    </tr>\n",
       "    <tr>\n",
       "      <th>Pengusaha</th>\n",
       "      <td>4.851986</td>\n",
       "      <td>1.920578</td>\n",
       "      <td>7.227437</td>\n",
       "    </tr>\n",
       "    <tr>\n",
       "      <th>Pensiun BUMN</th>\n",
       "      <td>0.346570</td>\n",
       "      <td>0.137184</td>\n",
       "      <td>0.516245</td>\n",
       "    </tr>\n",
       "    <tr>\n",
       "      <th>Pensiunan</th>\n",
       "      <td>0.346570</td>\n",
       "      <td>0.137184</td>\n",
       "      <td>0.516245</td>\n",
       "    </tr>\n",
       "    <tr>\n",
       "      <th>Photographer</th>\n",
       "      <td>0.346570</td>\n",
       "      <td>0.137184</td>\n",
       "      <td>0.516245</td>\n",
       "    </tr>\n",
       "    <tr>\n",
       "      <th>Profesional ( Dokter, Dosen, Pengacara, dll)</th>\n",
       "      <td>5.198556</td>\n",
       "      <td>2.057762</td>\n",
       "      <td>7.743682</td>\n",
       "    </tr>\n",
       "    <tr>\n",
       "      <th>Wiraswasta</th>\n",
       "      <td>0.693141</td>\n",
       "      <td>0.274368</td>\n",
       "      <td>1.032491</td>\n",
       "    </tr>\n",
       "  </tbody>\n",
       "</table>\n",
       "</div>"
      ],
      "text/plain": [
       "Aktivitas Online Meningkat                    Sama saja      Tidak         Ya\n",
       "Pekerjaan                                                                    \n",
       " Asisten dokter gigi anak2                     0.346570   0.137184   0.516245\n",
       "Ibu Rumah Tangga                               6.931408   2.743682  10.324910\n",
       "Insurance Agent                                0.346570   0.137184   0.516245\n",
       "Karyawan BUMD                                  0.693141   0.274368   1.032491\n",
       "Karyawan Swasta                               27.379061  10.837545  40.783394\n",
       "Konsultan Lingkungan                           0.346570   0.137184   0.516245\n",
       "Mitra BPS Regsosek                             0.346570   0.137184   0.516245\n",
       "Pedagang                                       0.346570   0.137184   0.516245\n",
       "Pegawai BUMD                                   0.346570   0.137184   0.516245\n",
       "Pegawai BUMN                                   0.346570   0.137184   0.516245\n",
       "Pegawai Negeri                                 3.119134   1.234657   4.646209\n",
       "Pelajar / Mahasiswa                           43.667870  17.285199  65.046931\n",
       "Pengusaha                                      4.851986   1.920578   7.227437\n",
       "Pensiun BUMN                                   0.346570   0.137184   0.516245\n",
       "Pensiunan                                      0.346570   0.137184   0.516245\n",
       "Photographer                                   0.346570   0.137184   0.516245\n",
       "Profesional ( Dokter, Dosen, Pengacara, dll)   5.198556   2.057762   7.743682\n",
       "Wiraswasta                                     0.693141   0.274368   1.032491"
      ]
     },
     "execution_count": 641,
     "metadata": {},
     "output_type": "execute_result"
    }
   ],
   "source": [
    "Ei2 = contigency2.copy()\n",
    "\n",
    "for s in contigency2.index:\n",
    "    for o in contigency2.columns:\n",
    "         Ei2.loc[s, o] = contigency2.loc[s].sum() * contigency2.loc[:, o].sum() / contigency2.values.sum()\n",
    "            \n",
    "Ei2"
   ]
  },
  {
   "cell_type": "code",
   "execution_count": 642,
   "metadata": {},
   "outputs": [
    {
     "name": "stdout",
     "output_type": "stream",
     "text": [
      "chi2 = 150.57647260928144\n",
      "Critical Region = chi2 > 32.670573340917315\n",
      "P value = 1.3644684752558475e-21\n",
      "Kesimpulan = REJECT\n"
     ]
    }
   ],
   "source": [
    "alpha = 0.05\n",
    "chi2, pval, data, Ei2 = st.chi2_contingency(contigency1)\n",
    "\n",
    "chi2_alpha = st.chi2.ppf(1 - 0.05, data)\n",
    "result = chi2 > chi2_alpha\n",
    "print(f\"chi2 = {chi2}\")\n",
    "print(f\"Critical Region = chi2 > {chi2_alpha}\")\n",
    "print(f\"P value = {pval}\")\n",
    "print(\"Kesimpulan = REJECT\")"
   ]
  },
  {
   "cell_type": "markdown",
   "metadata": {},
   "source": [
    "#### **Chi-squared test for Homogenity (alpha = 5%)<br>(2 tes untuk sepasang variabel yang berbeda, pasangan variabel bebas)**"
   ]
  },
  {
   "cell_type": "markdown",
   "metadata": {},
   "source": [
    "##### **H0 = Frekuensi channel Mobile Banking homogen dengan ATM<br>H1 = Frekuensi channel Mobile Banking  tidak homogen dengan ATM**"
   ]
  },
  {
   "cell_type": "code",
   "execution_count": 643,
   "metadata": {},
   "outputs": [
    {
     "data": {
      "text/html": [
       "<div>\n",
       "<style scoped>\n",
       "    .dataframe tbody tr th:only-of-type {\n",
       "        vertical-align: middle;\n",
       "    }\n",
       "\n",
       "    .dataframe tbody tr th {\n",
       "        vertical-align: top;\n",
       "    }\n",
       "\n",
       "    .dataframe thead th {\n",
       "        text-align: right;\n",
       "    }\n",
       "</style>\n",
       "<table border=\"1\" class=\"dataframe\">\n",
       "  <thead>\n",
       "    <tr style=\"text-align: right;\">\n",
       "      <th>18. Bagaimana frekuensi penggunaan Channel Bank berikut? [ATM]</th>\n",
       "      <th>2-5 kali per bulan</th>\n",
       "      <th>6-9 kali per bulan</th>\n",
       "      <th>&gt; 10 kali per bulan</th>\n",
       "      <th>Kurang dari/ setidaknya 1 kali per bulan</th>\n",
       "      <th>Tidak Pernah</th>\n",
       "    </tr>\n",
       "    <tr>\n",
       "      <th>18. Bagaimana frekuensi penggunaan Channel Bank berikut? [Mobile Banking ]</th>\n",
       "      <th></th>\n",
       "      <th></th>\n",
       "      <th></th>\n",
       "      <th></th>\n",
       "      <th></th>\n",
       "    </tr>\n",
       "  </thead>\n",
       "  <tbody>\n",
       "    <tr>\n",
       "      <th>2-5 kali per bulan</th>\n",
       "      <td>17</td>\n",
       "      <td>2</td>\n",
       "      <td>0</td>\n",
       "      <td>6</td>\n",
       "      <td>1</td>\n",
       "    </tr>\n",
       "    <tr>\n",
       "      <th>6-9 kali per bulan</th>\n",
       "      <td>23</td>\n",
       "      <td>8</td>\n",
       "      <td>3</td>\n",
       "      <td>9</td>\n",
       "      <td>1</td>\n",
       "    </tr>\n",
       "    <tr>\n",
       "      <th>&gt; 10 kali per bulan</th>\n",
       "      <td>60</td>\n",
       "      <td>19</td>\n",
       "      <td>37</td>\n",
       "      <td>9</td>\n",
       "      <td>1</td>\n",
       "    </tr>\n",
       "    <tr>\n",
       "      <th>Kurang dari/ setidaknya 1 kali per bulan</th>\n",
       "      <td>2</td>\n",
       "      <td>0</td>\n",
       "      <td>0</td>\n",
       "      <td>5</td>\n",
       "      <td>0</td>\n",
       "    </tr>\n",
       "    <tr>\n",
       "      <th>Tidak Pernah</th>\n",
       "      <td>0</td>\n",
       "      <td>0</td>\n",
       "      <td>1</td>\n",
       "      <td>1</td>\n",
       "      <td>0</td>\n",
       "    </tr>\n",
       "  </tbody>\n",
       "</table>\n",
       "</div>"
      ],
      "text/plain": [
       "18. Bagaimana frekuensi penggunaan Channel Bank berikut? [ATM]  2-5 kali per bulan  \\\n",
       "18. Bagaimana frekuensi penggunaan Channel Bank...                                   \n",
       "2-5 kali per bulan                                                              17   \n",
       "6-9 kali per bulan                                                              23   \n",
       "> 10 kali per bulan                                                             60   \n",
       "Kurang dari/ setidaknya 1 kali per bulan                                         2   \n",
       "Tidak Pernah                                                                     0   \n",
       "\n",
       "18. Bagaimana frekuensi penggunaan Channel Bank berikut? [ATM]  6-9 kali per bulan  \\\n",
       "18. Bagaimana frekuensi penggunaan Channel Bank...                                   \n",
       "2-5 kali per bulan                                                               2   \n",
       "6-9 kali per bulan                                                               8   \n",
       "> 10 kali per bulan                                                             19   \n",
       "Kurang dari/ setidaknya 1 kali per bulan                                         0   \n",
       "Tidak Pernah                                                                     0   \n",
       "\n",
       "18. Bagaimana frekuensi penggunaan Channel Bank berikut? [ATM]  > 10 kali per bulan  \\\n",
       "18. Bagaimana frekuensi penggunaan Channel Bank...                                    \n",
       "2-5 kali per bulan                                                                0   \n",
       "6-9 kali per bulan                                                                3   \n",
       "> 10 kali per bulan                                                              37   \n",
       "Kurang dari/ setidaknya 1 kali per bulan                                          0   \n",
       "Tidak Pernah                                                                      1   \n",
       "\n",
       "18. Bagaimana frekuensi penggunaan Channel Bank berikut? [ATM]  Kurang dari/ setidaknya 1 kali per bulan  \\\n",
       "18. Bagaimana frekuensi penggunaan Channel Bank...                                                         \n",
       "2-5 kali per bulan                                                                                     6   \n",
       "6-9 kali per bulan                                                                                     9   \n",
       "> 10 kali per bulan                                                                                    9   \n",
       "Kurang dari/ setidaknya 1 kali per bulan                                                               5   \n",
       "Tidak Pernah                                                                                           1   \n",
       "\n",
       "18. Bagaimana frekuensi penggunaan Channel Bank berikut? [ATM]  Tidak Pernah  \n",
       "18. Bagaimana frekuensi penggunaan Channel Bank...                            \n",
       "2-5 kali per bulan                                                         1  \n",
       "6-9 kali per bulan                                                         1  \n",
       "> 10 kali per bulan                                                        1  \n",
       "Kurang dari/ setidaknya 1 kali per bulan                                   0  \n",
       "Tidak Pernah                                                               0  "
      ]
     },
     "execution_count": 643,
     "metadata": {},
     "output_type": "execute_result"
    }
   ],
   "source": [
    "contigency3 = pd.crosstab(df['18. Bagaimana frekuensi penggunaan Channel Bank berikut? [Mobile Banking ]'],\n",
    "                            df['18. Bagaimana frekuensi penggunaan Channel Bank berikut? [ATM]'])\n",
    "contigency3"
   ]
  },
  {
   "cell_type": "code",
   "execution_count": 644,
   "metadata": {},
   "outputs": [
    {
     "data": {
      "text/html": [
       "<div>\n",
       "<style scoped>\n",
       "    .dataframe tbody tr th:only-of-type {\n",
       "        vertical-align: middle;\n",
       "    }\n",
       "\n",
       "    .dataframe tbody tr th {\n",
       "        vertical-align: top;\n",
       "    }\n",
       "\n",
       "    .dataframe thead th {\n",
       "        text-align: right;\n",
       "    }\n",
       "</style>\n",
       "<table border=\"1\" class=\"dataframe\">\n",
       "  <thead>\n",
       "    <tr style=\"text-align: right;\">\n",
       "      <th>18. Bagaimana frekuensi penggunaan Channel Bank berikut? [ATM]</th>\n",
       "      <th>2-5 kali per bulan</th>\n",
       "      <th>6-9 kali per bulan</th>\n",
       "      <th>&gt; 10 kali per bulan</th>\n",
       "      <th>Kurang dari/ setidaknya 1 kali per bulan</th>\n",
       "      <th>Tidak Pernah</th>\n",
       "    </tr>\n",
       "    <tr>\n",
       "      <th>18. Bagaimana frekuensi penggunaan Channel Bank berikut? [Mobile Banking ]</th>\n",
       "      <th></th>\n",
       "      <th></th>\n",
       "      <th></th>\n",
       "      <th></th>\n",
       "      <th></th>\n",
       "    </tr>\n",
       "  </thead>\n",
       "  <tbody>\n",
       "    <tr>\n",
       "      <th>2-5 kali per bulan</th>\n",
       "      <td>12.936585</td>\n",
       "      <td>3.678049</td>\n",
       "      <td>5.2</td>\n",
       "      <td>3.804878</td>\n",
       "      <td>0.380488</td>\n",
       "    </tr>\n",
       "    <tr>\n",
       "      <th>6-9 kali per bulan</th>\n",
       "      <td>21.892683</td>\n",
       "      <td>6.224390</td>\n",
       "      <td>8.8</td>\n",
       "      <td>6.439024</td>\n",
       "      <td>0.643902</td>\n",
       "    </tr>\n",
       "    <tr>\n",
       "      <th>&gt; 10 kali per bulan</th>\n",
       "      <td>62.692683</td>\n",
       "      <td>17.824390</td>\n",
       "      <td>25.2</td>\n",
       "      <td>18.439024</td>\n",
       "      <td>1.843902</td>\n",
       "    </tr>\n",
       "    <tr>\n",
       "      <th>Kurang dari/ setidaknya 1 kali per bulan</th>\n",
       "      <td>3.482927</td>\n",
       "      <td>0.990244</td>\n",
       "      <td>1.4</td>\n",
       "      <td>1.024390</td>\n",
       "      <td>0.102439</td>\n",
       "    </tr>\n",
       "    <tr>\n",
       "      <th>Tidak Pernah</th>\n",
       "      <td>0.995122</td>\n",
       "      <td>0.282927</td>\n",
       "      <td>0.4</td>\n",
       "      <td>0.292683</td>\n",
       "      <td>0.029268</td>\n",
       "    </tr>\n",
       "  </tbody>\n",
       "</table>\n",
       "</div>"
      ],
      "text/plain": [
       "18. Bagaimana frekuensi penggunaan Channel Bank berikut? [ATM]  2-5 kali per bulan  \\\n",
       "18. Bagaimana frekuensi penggunaan Channel Bank...                                   \n",
       "2-5 kali per bulan                                                       12.936585   \n",
       "6-9 kali per bulan                                                       21.892683   \n",
       "> 10 kali per bulan                                                      62.692683   \n",
       "Kurang dari/ setidaknya 1 kali per bulan                                  3.482927   \n",
       "Tidak Pernah                                                              0.995122   \n",
       "\n",
       "18. Bagaimana frekuensi penggunaan Channel Bank berikut? [ATM]  6-9 kali per bulan  \\\n",
       "18. Bagaimana frekuensi penggunaan Channel Bank...                                   \n",
       "2-5 kali per bulan                                                        3.678049   \n",
       "6-9 kali per bulan                                                        6.224390   \n",
       "> 10 kali per bulan                                                      17.824390   \n",
       "Kurang dari/ setidaknya 1 kali per bulan                                  0.990244   \n",
       "Tidak Pernah                                                              0.282927   \n",
       "\n",
       "18. Bagaimana frekuensi penggunaan Channel Bank berikut? [ATM]  > 10 kali per bulan  \\\n",
       "18. Bagaimana frekuensi penggunaan Channel Bank...                                    \n",
       "2-5 kali per bulan                                                              5.2   \n",
       "6-9 kali per bulan                                                              8.8   \n",
       "> 10 kali per bulan                                                            25.2   \n",
       "Kurang dari/ setidaknya 1 kali per bulan                                        1.4   \n",
       "Tidak Pernah                                                                    0.4   \n",
       "\n",
       "18. Bagaimana frekuensi penggunaan Channel Bank berikut? [ATM]  Kurang dari/ setidaknya 1 kali per bulan  \\\n",
       "18. Bagaimana frekuensi penggunaan Channel Bank...                                                         \n",
       "2-5 kali per bulan                                                                              3.804878   \n",
       "6-9 kali per bulan                                                                              6.439024   \n",
       "> 10 kali per bulan                                                                            18.439024   \n",
       "Kurang dari/ setidaknya 1 kali per bulan                                                        1.024390   \n",
       "Tidak Pernah                                                                                    0.292683   \n",
       "\n",
       "18. Bagaimana frekuensi penggunaan Channel Bank berikut? [ATM]  Tidak Pernah  \n",
       "18. Bagaimana frekuensi penggunaan Channel Bank...                            \n",
       "2-5 kali per bulan                                                  0.380488  \n",
       "6-9 kali per bulan                                                  0.643902  \n",
       "> 10 kali per bulan                                                 1.843902  \n",
       "Kurang dari/ setidaknya 1 kali per bulan                            0.102439  \n",
       "Tidak Pernah                                                        0.029268  "
      ]
     },
     "execution_count": 644,
     "metadata": {},
     "output_type": "execute_result"
    }
   ],
   "source": [
    "Ei3 = contigency3.copy()\n",
    "\n",
    "for s in contigency3.index:\n",
    "    for o in contigency3.columns:\n",
    "         Ei3.loc[s, o] = contigency3.loc[s].sum() * contigency3.loc[:, o].sum() / contigency3.values.sum()\n",
    "            \n",
    "Ei3"
   ]
  },
  {
   "cell_type": "code",
   "execution_count": 645,
   "metadata": {},
   "outputs": [
    {
     "name": "stdout",
     "output_type": "stream",
     "text": [
      "chi2 = 48.524365837753265\n",
      "Critical Region = chi2 > 26.29622760486423\n",
      "P value = 3.928081514371195e-05\n",
      "Kesimpulan = REJECT\n"
     ]
    }
   ],
   "source": [
    "alpha = 0.05\n",
    "chi2, pval, dof3, Ei3 = st.chi2_contingency(contigency3)\n",
    "\n",
    "chi2_alpha = st.chi2.ppf(1 - 0.05, dof3)\n",
    "result = chi2 > chi2_alpha\n",
    "\n",
    "print(f\"chi2 = {chi2}\")\n",
    "print(f\"Critical Region = chi2 > {chi2_alpha}\")\n",
    "print(f\"P value = {pval}\")\n",
    "print(\"Kesimpulan = REJECT\")"
   ]
  },
  {
   "cell_type": "markdown",
   "metadata": {},
   "source": [
    "##### **H0 = Frekuensi channel Internet Banking homogen dengan SMS Banking<br>H1 = Frekuensi channel Internet Banking  tidak homogen dengan SMS Banking**"
   ]
  },
  {
   "cell_type": "code",
   "execution_count": 646,
   "metadata": {},
   "outputs": [
    {
     "data": {
      "text/html": [
       "<div>\n",
       "<style scoped>\n",
       "    .dataframe tbody tr th:only-of-type {\n",
       "        vertical-align: middle;\n",
       "    }\n",
       "\n",
       "    .dataframe tbody tr th {\n",
       "        vertical-align: top;\n",
       "    }\n",
       "\n",
       "    .dataframe thead th {\n",
       "        text-align: right;\n",
       "    }\n",
       "</style>\n",
       "<table border=\"1\" class=\"dataframe\">\n",
       "  <thead>\n",
       "    <tr style=\"text-align: right;\">\n",
       "      <th>18. Bagaimana frekuensi penggunaan Channel Bank berikut? [SMS Banking]</th>\n",
       "      <th>2-5 kali per bulan</th>\n",
       "      <th>6-9 kali per bulan</th>\n",
       "      <th>&gt; 10 kali per bulan</th>\n",
       "      <th>Kurang dari/ setidaknya 1 kali per bulan</th>\n",
       "      <th>Tidak Pernah</th>\n",
       "    </tr>\n",
       "    <tr>\n",
       "      <th>18. Bagaimana frekuensi penggunaan Channel Bank berikut? [Internet Banking ]</th>\n",
       "      <th></th>\n",
       "      <th></th>\n",
       "      <th></th>\n",
       "      <th></th>\n",
       "      <th></th>\n",
       "    </tr>\n",
       "  </thead>\n",
       "  <tbody>\n",
       "    <tr>\n",
       "      <th>2-5 kali per bulan</th>\n",
       "      <td>3</td>\n",
       "      <td>0</td>\n",
       "      <td>0</td>\n",
       "      <td>1</td>\n",
       "      <td>1</td>\n",
       "    </tr>\n",
       "    <tr>\n",
       "      <th>6-9 kali per bulan</th>\n",
       "      <td>0</td>\n",
       "      <td>3</td>\n",
       "      <td>1</td>\n",
       "      <td>1</td>\n",
       "      <td>0</td>\n",
       "    </tr>\n",
       "    <tr>\n",
       "      <th>&gt; 10 kali per bulan</th>\n",
       "      <td>0</td>\n",
       "      <td>1</td>\n",
       "      <td>10</td>\n",
       "      <td>2</td>\n",
       "      <td>1</td>\n",
       "    </tr>\n",
       "    <tr>\n",
       "      <th>Kurang dari/ setidaknya 1 kali per bulan</th>\n",
       "      <td>0</td>\n",
       "      <td>0</td>\n",
       "      <td>0</td>\n",
       "      <td>7</td>\n",
       "      <td>4</td>\n",
       "    </tr>\n",
       "    <tr>\n",
       "      <th>Tidak Pernah</th>\n",
       "      <td>0</td>\n",
       "      <td>0</td>\n",
       "      <td>0</td>\n",
       "      <td>2</td>\n",
       "      <td>29</td>\n",
       "    </tr>\n",
       "  </tbody>\n",
       "</table>\n",
       "</div>"
      ],
      "text/plain": [
       "18. Bagaimana frekuensi penggunaan Channel Bank berikut? [SMS Banking]  2-5 kali per bulan  \\\n",
       "18. Bagaimana frekuensi penggunaan Channel Bank...                                           \n",
       "2-5 kali per bulan                                                                       3   \n",
       "6-9 kali per bulan                                                                       0   \n",
       "> 10 kali per bulan                                                                      0   \n",
       "Kurang dari/ setidaknya 1 kali per bulan                                                 0   \n",
       "Tidak Pernah                                                                             0   \n",
       "\n",
       "18. Bagaimana frekuensi penggunaan Channel Bank berikut? [SMS Banking]  6-9 kali per bulan  \\\n",
       "18. Bagaimana frekuensi penggunaan Channel Bank...                                           \n",
       "2-5 kali per bulan                                                                       0   \n",
       "6-9 kali per bulan                                                                       3   \n",
       "> 10 kali per bulan                                                                      1   \n",
       "Kurang dari/ setidaknya 1 kali per bulan                                                 0   \n",
       "Tidak Pernah                                                                             0   \n",
       "\n",
       "18. Bagaimana frekuensi penggunaan Channel Bank berikut? [SMS Banking]  > 10 kali per bulan  \\\n",
       "18. Bagaimana frekuensi penggunaan Channel Bank...                                            \n",
       "2-5 kali per bulan                                                                        0   \n",
       "6-9 kali per bulan                                                                        1   \n",
       "> 10 kali per bulan                                                                      10   \n",
       "Kurang dari/ setidaknya 1 kali per bulan                                                  0   \n",
       "Tidak Pernah                                                                              0   \n",
       "\n",
       "18. Bagaimana frekuensi penggunaan Channel Bank berikut? [SMS Banking]  Kurang dari/ setidaknya 1 kali per bulan  \\\n",
       "18. Bagaimana frekuensi penggunaan Channel Bank...                                                                 \n",
       "2-5 kali per bulan                                                                                             1   \n",
       "6-9 kali per bulan                                                                                             1   \n",
       "> 10 kali per bulan                                                                                            2   \n",
       "Kurang dari/ setidaknya 1 kali per bulan                                                                       7   \n",
       "Tidak Pernah                                                                                                   2   \n",
       "\n",
       "18. Bagaimana frekuensi penggunaan Channel Bank berikut? [SMS Banking]  Tidak Pernah  \n",
       "18. Bagaimana frekuensi penggunaan Channel Bank...                                    \n",
       "2-5 kali per bulan                                                                 1  \n",
       "6-9 kali per bulan                                                                 0  \n",
       "> 10 kali per bulan                                                                1  \n",
       "Kurang dari/ setidaknya 1 kali per bulan                                           4  \n",
       "Tidak Pernah                                                                      29  "
      ]
     },
     "execution_count": 646,
     "metadata": {},
     "output_type": "execute_result"
    }
   ],
   "source": [
    "contigency4 = pd.crosstab(df['18. Bagaimana frekuensi penggunaan Channel Bank berikut? [Internet Banking ]'],\n",
    "                            df['18. Bagaimana frekuensi penggunaan Channel Bank berikut? [SMS Banking]'])\n",
    "contigency4"
   ]
  },
  {
   "cell_type": "code",
   "execution_count": 647,
   "metadata": {},
   "outputs": [
    {
     "data": {
      "text/html": [
       "<div>\n",
       "<style scoped>\n",
       "    .dataframe tbody tr th:only-of-type {\n",
       "        vertical-align: middle;\n",
       "    }\n",
       "\n",
       "    .dataframe tbody tr th {\n",
       "        vertical-align: top;\n",
       "    }\n",
       "\n",
       "    .dataframe thead th {\n",
       "        text-align: right;\n",
       "    }\n",
       "</style>\n",
       "<table border=\"1\" class=\"dataframe\">\n",
       "  <thead>\n",
       "    <tr style=\"text-align: right;\">\n",
       "      <th>18. Bagaimana frekuensi penggunaan Channel Bank berikut? [SMS Banking]</th>\n",
       "      <th>2-5 kali per bulan</th>\n",
       "      <th>6-9 kali per bulan</th>\n",
       "      <th>&gt; 10 kali per bulan</th>\n",
       "      <th>Kurang dari/ setidaknya 1 kali per bulan</th>\n",
       "      <th>Tidak Pernah</th>\n",
       "    </tr>\n",
       "    <tr>\n",
       "      <th>18. Bagaimana frekuensi penggunaan Channel Bank berikut? [Internet Banking ]</th>\n",
       "      <th></th>\n",
       "      <th></th>\n",
       "      <th></th>\n",
       "      <th></th>\n",
       "      <th></th>\n",
       "    </tr>\n",
       "  </thead>\n",
       "  <tbody>\n",
       "    <tr>\n",
       "      <th>2-5 kali per bulan</th>\n",
       "      <td>0.227273</td>\n",
       "      <td>0.303030</td>\n",
       "      <td>0.833333</td>\n",
       "      <td>0.984848</td>\n",
       "      <td>2.651515</td>\n",
       "    </tr>\n",
       "    <tr>\n",
       "      <th>6-9 kali per bulan</th>\n",
       "      <td>0.227273</td>\n",
       "      <td>0.303030</td>\n",
       "      <td>0.833333</td>\n",
       "      <td>0.984848</td>\n",
       "      <td>2.651515</td>\n",
       "    </tr>\n",
       "    <tr>\n",
       "      <th>&gt; 10 kali per bulan</th>\n",
       "      <td>0.636364</td>\n",
       "      <td>0.848485</td>\n",
       "      <td>2.333333</td>\n",
       "      <td>2.757576</td>\n",
       "      <td>7.424242</td>\n",
       "    </tr>\n",
       "    <tr>\n",
       "      <th>Kurang dari/ setidaknya 1 kali per bulan</th>\n",
       "      <td>0.500000</td>\n",
       "      <td>0.666667</td>\n",
       "      <td>1.833333</td>\n",
       "      <td>2.166667</td>\n",
       "      <td>5.833333</td>\n",
       "    </tr>\n",
       "    <tr>\n",
       "      <th>Tidak Pernah</th>\n",
       "      <td>1.409091</td>\n",
       "      <td>1.878788</td>\n",
       "      <td>5.166667</td>\n",
       "      <td>6.106061</td>\n",
       "      <td>16.439394</td>\n",
       "    </tr>\n",
       "  </tbody>\n",
       "</table>\n",
       "</div>"
      ],
      "text/plain": [
       "18. Bagaimana frekuensi penggunaan Channel Bank berikut? [SMS Banking]  2-5 kali per bulan  \\\n",
       "18. Bagaimana frekuensi penggunaan Channel Bank...                                           \n",
       "2-5 kali per bulan                                                                0.227273   \n",
       "6-9 kali per bulan                                                                0.227273   \n",
       "> 10 kali per bulan                                                               0.636364   \n",
       "Kurang dari/ setidaknya 1 kali per bulan                                          0.500000   \n",
       "Tidak Pernah                                                                      1.409091   \n",
       "\n",
       "18. Bagaimana frekuensi penggunaan Channel Bank berikut? [SMS Banking]  6-9 kali per bulan  \\\n",
       "18. Bagaimana frekuensi penggunaan Channel Bank...                                           \n",
       "2-5 kali per bulan                                                                0.303030   \n",
       "6-9 kali per bulan                                                                0.303030   \n",
       "> 10 kali per bulan                                                               0.848485   \n",
       "Kurang dari/ setidaknya 1 kali per bulan                                          0.666667   \n",
       "Tidak Pernah                                                                      1.878788   \n",
       "\n",
       "18. Bagaimana frekuensi penggunaan Channel Bank berikut? [SMS Banking]  > 10 kali per bulan  \\\n",
       "18. Bagaimana frekuensi penggunaan Channel Bank...                                            \n",
       "2-5 kali per bulan                                                                 0.833333   \n",
       "6-9 kali per bulan                                                                 0.833333   \n",
       "> 10 kali per bulan                                                                2.333333   \n",
       "Kurang dari/ setidaknya 1 kali per bulan                                           1.833333   \n",
       "Tidak Pernah                                                                       5.166667   \n",
       "\n",
       "18. Bagaimana frekuensi penggunaan Channel Bank berikut? [SMS Banking]  Kurang dari/ setidaknya 1 kali per bulan  \\\n",
       "18. Bagaimana frekuensi penggunaan Channel Bank...                                                                 \n",
       "2-5 kali per bulan                                                                                      0.984848   \n",
       "6-9 kali per bulan                                                                                      0.984848   \n",
       "> 10 kali per bulan                                                                                     2.757576   \n",
       "Kurang dari/ setidaknya 1 kali per bulan                                                                2.166667   \n",
       "Tidak Pernah                                                                                            6.106061   \n",
       "\n",
       "18. Bagaimana frekuensi penggunaan Channel Bank berikut? [SMS Banking]  Tidak Pernah  \n",
       "18. Bagaimana frekuensi penggunaan Channel Bank...                                    \n",
       "2-5 kali per bulan                                                          2.651515  \n",
       "6-9 kali per bulan                                                          2.651515  \n",
       "> 10 kali per bulan                                                         7.424242  \n",
       "Kurang dari/ setidaknya 1 kali per bulan                                    5.833333  \n",
       "Tidak Pernah                                                               16.439394  "
      ]
     },
     "execution_count": 647,
     "metadata": {},
     "output_type": "execute_result"
    }
   ],
   "source": [
    "Ei4 = contigency4.copy()\n",
    "\n",
    "for s in contigency4.index:\n",
    "    for o in contigency4.columns:\n",
    "         Ei4.loc[s, o] = contigency4.loc[s].sum() * contigency4.loc[:, o].sum() / contigency4.values.sum()\n",
    "            \n",
    "Ei4"
   ]
  },
  {
   "cell_type": "code",
   "execution_count": 648,
   "metadata": {},
   "outputs": [
    {
     "name": "stdout",
     "output_type": "stream",
     "text": [
      "chi2 = 129.6998019952398\n",
      "Critical Region = chi2 > 26.29622760486423\n",
      "P value = 7.340284463198784e-20\n",
      "Kesimpulan = REJECT\n"
     ]
    }
   ],
   "source": [
    "alpha = 0.05\n",
    "chi2, pval, dof4, Ei4 = st.chi2_contingency(contigency4)\n",
    "\n",
    "chi2_alpha = st.chi2.ppf(1 - 0.05, dof4)\n",
    "result = chi2 > chi2_alpha\n",
    "\n",
    "print(f\"chi2 = {chi2}\")\n",
    "print(f\"Critical Region = chi2 > {chi2_alpha}\")\n",
    "print(f\"P value = {pval}\")\n",
    "print(\"Kesimpulan = REJECT\")"
   ]
  },
  {
   "cell_type": "markdown",
   "metadata": {},
   "source": [
    "# **Data Insights**"
   ]
  },
  {
   "cell_type": "markdown",
   "metadata": {},
   "source": [
    "#### *Pengguna layanan aktif Mobile Banking, ATM, dan SMS Banking*\n",
    "\n",
    "Melalui analisis confidence intervel ketiga layanan aktif tersebut, didapatkan beberapa insight, antara lain:\n",
    "\n",
    "**1. Layanan *mobile banking* memiliki pengguna terbanyak dengan P hat (rata - rata) senilai 85,9% sehingga menjadi layanan aktif dengan pengguna terbanyak dari data ini.**<br>**2. Layanan SMS *banking* menjadi layanan aktif dengan pengguna paling sedikit dengan P hat (rata - rata) senilai 5%.**\n",
    "\n",
    "Poin diatas diperkuat dengan persentase pengguna pada pie chart dibawah ini.\n",
    "\n",
    "Catatan: Data persentase dibawah berbeda dengan P hat karena sebaran data total pada confidence interval menggunakan perbandingan total (277), sedangkan persentase pada pie chart membandingkan jumlah antar pengguna layanan aktif."
   ]
  },
  {
   "cell_type": "code",
   "execution_count": 649,
   "metadata": {},
   "outputs": [
    {
     "data": {
      "image/png": "[encoded data removed]",
      "text/plain": [
       "<Figure size 640x480 with 1 Axes>"
      ]
     },
     "metadata": {},
     "output_type": "display_data"
    }
   ],
   "source": [
    "# Pilih kolom layanan dan kolom penghasilan\n",
    "layanan = df[['layanan_aktif_1', 'layanan_aktif_2', 'layanan_aktif_3', 'layanan_aktif_4', 'layanan_aktif_5', 'layanan_aktif_6']]\n",
    "label = ['Mobile Banking', 'ATM', 'Kartu Kredit', 'Internet Banking', 'Datang ke Kantor Cabang', 'SMS Banking']\n",
    "# Membuat plot untuk setiap kolom layanan\n",
    "plt.pie(layanan.count(), labels=label, autopct='%.2f%%')\n",
    "plt.title(\"Distribusi Pengguna Layanan Aktif\")\n",
    "plt.show()"
   ]
  },
  {
   "cell_type": "markdown",
   "metadata": {},
   "source": [
    "#### **Persebaran data 3 layanan aktif yang digunakan diatas divisualisasikan lebih detail pada persebaran data dan barchart confidence interval dibawah.**"
   ]
  },
  {
   "cell_type": "code",
   "execution_count": 650,
   "metadata": {},
   "outputs": [
    {
     "data": {
      "image/png": "[encoded data removed]",
      "text/plain": [
       "<Figure size 640x480 with 1 Axes>"
      ]
     },
     "metadata": {},
     "output_type": "display_data"
    }
   ],
   "source": [
    "index = np.array([0, 1])\n",
    "confidence = np.array([mbank_range[0], mbank_range[1]])\n",
    "confidence3 = np.array([sms_range[0], sms_range[1]])\n",
    "confidence2 = np.array([atm_range[0], atm_range[1]])\n",
    "d = {'confidence': confidence, 'index' : index, 'confidence2': confidence2, 'confidence3': confidence3}\n",
    "pdnum = pd.DataFrame(d)\n",
    "\n",
    "ax = sns.lineplot(data=pdnum, x='index', y='confidence', label='Confidence Interval Mobile Banking', color = 'blue')\n",
    "ax = sns.lineplot(data=pdnum, x='index', y='confidence2', label='Confidence Interval ATM', color = 'orange')\n",
    "ax = sns.lineplot(data=pdnum, x='index', y='confidence3', label='Confidence Interval SMS Banking', color = 'purple')\n",
    "\n",
    "ax.axhline(y=mbank_hat, linewidth=2, color='green', label='P Hat Mobile Banking')\n",
    "ax.axhline(y=sms_hat, linewidth=2, color='lime', label='P Hat ATM')\n",
    "ax.axhline(y=atm_hat, linewidth=2, color='cyan', label='P Hat SMS Banking')\n",
    "ax.axhline(y=mbank_err, linewidth=2, color='red', label='Margin of Error Mobile Banking')\n",
    "ax.axhline(y=sms_err, linewidth=2, color='pink', label='Margin of Error ATM')\n",
    "ax.axhline(y=atm_err, linewidth=2, color='salmon', label='Margin of Error SMS Banking')\n",
    "\n",
    "legend_elements = [\n",
    "    Line2D([0], [0], color='blue', label='Confidence Interval Mobile Banking'),\n",
    "    Line2D([0], [0], color='orange', label='Confidence Interval ATM'),\n",
    "    Line2D([0], [0], color='purple', label='Confidence Interval SMS Banking'),\n",
    "    Line2D([0], [0], color='green', label='P Hat Mobile Banking'),\n",
    "    Line2D([0], [0], color='lime', label='P Hat ATM'),\n",
    "    Line2D([0], [0], color='cyan', label='P Hat SMS Banking'),\n",
    "    Line2D([0], [0], color='red', label='Margin of Error Mobile Banking'),\n",
    "    Line2D([0], [0], color='pink', label='Margin of Error ATM'),\n",
    "    Line2D([0], [0], color='salmon', label='Margin of Error SMS Banking')\n",
    "]\n",
    "\n",
    "ax.legend(handles=legend_elements, loc='center left', bbox_to_anchor=(1, 0.5))\n",
    "\n",
    "plt.title(\"Persebaran data Mobile Banking, ATM, dan SMS Banking\")\n",
    "plt.show()"
   ]
  },
  {
   "cell_type": "code",
   "execution_count": 651,
   "metadata": {},
   "outputs": [
    {
     "name": "stderr",
     "output_type": "stream",
     "text": [
      "C:\\Users\\Erwan\\AppData\\Local\\Temp\\ipykernel_25152\\2417400797.py:6: FutureWarning: \n",
      "\n",
      "Passing `palette` without assigning `hue` is deprecated and will be removed in v0.14.0. Assign the `x` variable to `hue` and set `legend=False` for the same effect.\n",
      "\n",
      "  ax = sns.barplot( data=pdnum, x='index', y= 'confidence', palette = color)\n"
     ]
    },
    {
     "data": {
      "image/png": "[encoded data removed]",
      "text/plain": [
       "<Figure size 640x480 with 1 Axes>"
      ]
     },
     "metadata": {},
     "output_type": "display_data"
    }
   ],
   "source": [
    "index = np.array(['Mobile Banking', 'ATM','SMS Banking'])\n",
    "color = ['blue', 'orange', 'purple']\n",
    "confidence = np.array([mbank_range[1], atm_range[1], sms_range[1]])\n",
    "d = {'confidence': confidence, 'index' : index}\n",
    "pdnum = pd.DataFrame(d)\n",
    "ax = sns.barplot( data=pdnum, x='index', y= 'confidence', palette = color)\n",
    "\n",
    "legend_elements = [\n",
    "    Line2D([0], [0], color='blue', label='Confidence Interval Mobile Banking'),\n",
    "    Line2D([0], [0], color='orange', label='Confidence Interval ATM'),\n",
    "    Line2D([0], [0], color='purple', label='Confidence Interval SMS Banking')\n",
    "]\n",
    "\n",
    "ax.legend(handles=legend_elements, loc='center left', bbox_to_anchor=(1, 0.5))\n",
    "plt.show()"
   ]
  },
  {
   "cell_type": "markdown",
   "metadata": {},
   "source": [
    "#### *Gojek dan persaingannya*\n",
    "\n",
    "Setelah melihat distribusi pengguna layanan aktif, kita akan melihat bagaimana posisi Gojek serta produk layanannya sebagai salah satu produk digital nasional dengan pesaingnya.\n",
    "\n",
    "**3. Produk GoPay unggul atas ShopeePay**\n",
    " \n",
    "Melihat confidence interval difference pengguna GoPay dan ShopeePay sebagai salah satu produk dari kedua perusahaan digital tersebut, terlihat bahwa perbedaan distribusi keduanya memang tidak terlalu signifikan (9,9% - 25,4%), tapi Gojek tetap unggul atas Shopee dengan produk GoPay miliknya.\n"
   ]
  },
  {
   "cell_type": "code",
   "execution_count": 652,
   "metadata": {},
   "outputs": [
    {
     "data": {
      "text/plain": [
       "<function matplotlib.pyplot.show(close=None, block=None)>"
      ]
     },
     "execution_count": 652,
     "metadata": {},
     "output_type": "execute_result"
    },
    {
     "data": {
      "image/png": "[encoded data removed]",
      "text/plain": [
       "<Figure size 600x600 with 1 Axes>"
      ]
     },
     "metadata": {},
     "output_type": "display_data"
    }
   ],
   "source": [
    "n_total = len(df)\n",
    "n1=len(df.loc[df['emoney_pilihan_1']==\"GoPay\"])\n",
    "n2=len(df.loc[df['emoney_pilihan_2']==\"ShopeePay\"])\n",
    "p_hat1 = n1/n_total\n",
    "p_hat2 = n2/n_total\n",
    "\n",
    "labels = ['GoPay', 'ShopeePay']\n",
    "sizes = [p_hat1, p_hat2]\n",
    "colors = ['skyblue', 'orange']\n",
    "\n",
    "plt.figure(figsize=(6, 6))\n",
    "plt.pie(sizes, labels=labels, colors=colors, autopct='%1.1f%%', startangle=90)\n",
    "plt.title('GoPay Vs ShopeePay')\n",
    "plt.axis('equal')\n",
    "\n",
    "# Menampilkan \n",
    "plt.show"
   ]
  },
  {
   "cell_type": "markdown",
   "metadata": {},
   "source": [
    "**4. Gojek (GoFood) kalah atas Shopee sebagai e-Commerce dengan pengguna terbanyak**\n",
    "\n",
    "Masih membahas persaingan Gojek dan Shopee sebegai perusahaan digital, melalui confidence interval difference, Shopee kali ini unggul atas Gojek (GoFood) sebagai e-Commerce pilihan responden."
   ]
  },
  {
   "cell_type": "code",
   "execution_count": 653,
   "metadata": {},
   "outputs": [
    {
     "data": {
      "text/plain": [
       "<function matplotlib.pyplot.show(close=None, block=None)>"
      ]
     },
     "execution_count": 653,
     "metadata": {},
     "output_type": "execute_result"
    },
    {
     "data": {
      "image/png": "[encoded data removed]",
      "text/plain": [
       "<Figure size 600x600 with 1 Axes>"
      ]
     },
     "metadata": {},
     "output_type": "display_data"
    }
   ],
   "source": [
    "n_total=len(df)\n",
    "n1=len(df.loc[df['ecommerce_pilihan_1']==\"Shopee\"])\n",
    "n2=len(df.loc[df['ecommerce_pilihan_2']==\"Gojek (GoFood\"])\n",
    "p_hat1 = n1/n_total\n",
    "p_hat2 = n2/n_total\n",
    "\n",
    "labels = ['Gojek (GoFood)', 'Shopee']\n",
    "sizes = [p_hat1, p_hat2]\n",
    "colors = ['skyblue', 'salmon']\n",
    "\n",
    "plt.figure(figsize=(6, 6))\n",
    "plt.pie(sizes, labels=labels, colors=colors, autopct='%1.1f%%', startangle=90)\n",
    "plt.title('Gojek (GoFood) Vs Shopee')\n",
    "plt.axis('equal')\n",
    "\n",
    "# Menampilkan \n",
    "plt.show"
   ]
  },
  {
   "cell_type": "markdown",
   "metadata": {},
   "source": [
    "#### *Goodness-of-fit pengguna layanan mobile banking dan peningkatan aktivitas online*\n",
    "\n",
    "**5. Distribusi pengguna layanan mobile banking dan peningkatan aktivitas online tidak layak dibuat model untuk prediksi**\n",
    "\n",
    "Karena hasil keduanya **H1 REJECT H0**, maka kedua data ini tidak uniform (tidak sesuai ekspekstasi), sehingga tidak disarankan untuk dimodelkan."
   ]
  },
  {
   "cell_type": "markdown",
   "metadata": {},
   "source": [
    "#### *Traveloka VS Tiket.com*\n",
    "\n",
    "**6. Perbedaan pengguna Traveloka dan Tiket.com tidak signifikan**\n",
    "\n",
    "Melalui Z-test (left-tailed test) pada e-Commerce Traveloka dan Tiket.com sebagai 2 penyedia tiket online yang cukup terkemuka, didapatkan bahwa Z value tidak berada pada area critical region (baik < / >) yang memastikan **H1 FAIL TO REJECT H0** sehingga tidak ada cukup bukti statistik untuk menyimpulkan bahwa ada perbedaan signifikan antara rata-rata dari dua kelompok yang diuji (Perlu pengujian lebih lanjut)."
   ]
  },
  {
   "cell_type": "markdown",
   "metadata": {},
   "source": [
    "#### *Hubungan pendidikan terakhir dengan penghasilan per bulan*\n",
    "\n",
    "**7. Pendidikan terakhir berpengaruh terhadap penghasilan per bulan**\n",
    "\n",
    "Melalui chi-squared test for independency, dapat dilihat bahwa hasil test pendidikan terakhir dengan penghasilan per bulan adalah H1 **REJECT** H0 yang berarti kedua variabel ini tidak saling independen atau memiliki hubungan yang saling mempengaruhi."
   ]
  },
  {
   "cell_type": "markdown",
   "metadata": {},
   "source": [
    "#### *Hubungan pekerjaan dengan peningkatan aktivitas online*\n",
    "\n",
    "**8. Pekerjaan berpengaruh terhadap peningkatan aktivitas online.**\n",
    " \n",
    "Melalui chi-squared test for independency, dapat dilihat bahwa hasil test pekerjaan dengan peningkatan aktivitas online  adalah H1 **REJECT** H0 yang berarti kedua variabel ini tidak saling independen atau memiliki hubungan yang saling mempengaruhi"
   ]
  },
  {
   "cell_type": "markdown",
   "metadata": {},
   "source": [
    "#### *Homogenitas frekuensi layanan aktif*\n",
    "\n",
    "**9. Frekuensi pengguna *mobile banking* tidak sama dengan pengguna ATM**\n",
    "\n",
    "Melihat hasil chi-squared test for homogenity, disimpulkan bahwa frekuensi pengguna layanan aktif *mobile banking* tidak homogen (tidak sama) dengan pengguna ATM.\n",
    "\n",
    "**10. Frekuensi pengguna *internet banking* tidak sama dengan pengguna SMS *banking***\n",
    "\n",
    "Melihat hasil chi-squared test for homogenity, disimpulkan bahwa frekuensi pengguna layanan aktif *internet banking* tidak homogen (tidak sama) dengan pengguna SMS *banking*."
   ]
  },
  {
   "cell_type": "markdown",
   "metadata": {},
   "source": [
    "# SELESAI"
   ]
  }
 ],
 "metadata": {
  "kernelspec": {
   "display_name": "Python 3",
   "language": "python",
   "name": "python3"
  },
  "language_info": {
   "codemirror_mode": {
    "name": "ipython",
    "version": 3
   },
   "file_extension": ".py",
   "mimetype": "text/x-python",
   "name": "python",
   "nbconvert_exporter": "python",
   "pygments_lexer": "ipython3",
   "version": "3.10.6"
  }
 },
 "nbformat": 4,
 "nbformat_minor": 2
}
